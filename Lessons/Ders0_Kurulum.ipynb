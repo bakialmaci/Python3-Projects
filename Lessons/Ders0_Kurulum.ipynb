{
 "cells": [
  {
   "cell_type": "markdown",
   "metadata": {
    "colab_type": "text",
    "id": "ifvV6hohZR97"
   },
   "source": [
    "<center><img src=\"./assests/robot_logo.svg\" alt=\"8+6*2*3-(15-13)\" width=\"200\">\n",
    "</center>\n",
    "<br>\n",
    "<center>\n",
    "  <b>Hacettepe Robot Topluluğu<br>\n",
    "  Python Dersleri - Kurulum Kontrol Sihirbazı</b><br>\n",
    "  <hr>\n",
    "  <b>Ders :</b> 0&emsp;&emsp;&emsp;<b>Konu :</b> Kurulum Sihirbazı<br>\n",
    "  <b>Eğitmen :</b> Kaan ARI&emsp;&emsp;&emsp;<b>E-Mail :</b> kaan.ari.tr@gmail.com\n",
    "</center>\n",
    "\n"
   ]
  },
  {
   "cell_type": "markdown",
   "metadata": {
    "colab_type": "text",
    "id": "3npnez-Jw8dq"
   },
   "source": [
    "<hr>\n",
    "<center>\n",
    "<b>Merhaba</b><br>\n",
    "Bu aşamaya kadar gelebildiğin için tebrik ediyorum. Bu ekranı düzgün görüntülemeyi başarabildiysen büyük ihtimalle kurulumun sorunsuz şekilde tamamlanmış demektir. \n",
    "</center>\n",
    "\n",
    "<center>\n",
    "Yinede derse gelmeden önce emin olmakta fayda var.\n",
    "\n",
    "</center>\n",
    "<hr>\n"
   ]
  },
  {
   "cell_type": "markdown",
   "metadata": {},
   "source": [
    "<center>\n",
    "<b>Nedir bu Jupyter Notebook?</b><br><br>\n",
    "Jupyter Notebook, bir web tarayıcısı üzerinden notebook belgesi formatındaki kodları düzenlemeyi ve çalıştırmayı sağlayan bir sunucu-istemci uygulamasıdır. İlk çıktığında isim olarak IPython Notebook diye biliniyordu. Başlangıçta sadece Python’ı desteklesede zamanla gelişerek Julia, Octave, R, Haskel, Ruby gibi dilleri de desteklemeye başladı (tam liste için tıklayınız). Özellikle matematiksel ifadeleri LaTeX komutları ile yazabilirsiniz.<br><br>\n",
    "</center>\n",
    "<center>\n",
    "<b>Nasıl Kullanılır?</b><br><br>\n",
    "Gelelim defterlerin nasıl kullanılacağına. Kabaca her defterin alt alta sıralanmış kutucuklardan oluştuğunu düşünebilirsiniz. Bu kutucuklarda kodlama ve hesaplama işlerinizi yapabilirsiniz. Bir hücrenin içine yazılanları çalıştırmak için, hücrenin içine tıklayıp, Ctrl ve Enter tuşlarına birlikte basmanız (Ctrl + Enter) veya yukarıdaki menüde bulunan Oynat (>|) butonuna basmanız yeterlidir. \n",
    "</center>\n",
    "<hr>"
   ]
  },
  {
   "cell_type": "markdown",
   "metadata": {},
   "source": [
    "<b> Örnek 1 </b><br>\n",
    "Hadi ilk kodumuzu çalıştıralım.<br>\n",
    "<b>1)</b> Aşağıdaki hücreye 1 kere tıklayalım.<br>\n",
    "<b>2)</b> Ctrl + Enter veya Yukarıdaki Oynat (>|) Butonuna basalım.<br>\n",
    "<b>3)</b> Çalıştırdığımız hücrenin hemen altında çıktımızı göreceğiz.<br>\n",
    "<b>4)</b> Eğer gördüğümüz sonuç 89 ise doğru yolda ilerliyoruz demek. (Çalışmıyorsa düzeltmek için bir takım sancılı süreçler sizi bekliyor.)<br>\n"
   ]
  },
  {
   "cell_type": "code",
   "execution_count": null,
   "metadata": {
    "scrolled": true
   },
   "outputs": [],
   "source": [
    "a = (3**4) + (2*4)\n",
    "print(a)"
   ]
  },
  {
   "cell_type": "markdown",
   "metadata": {},
   "source": [
    "<hr>\n",
    "<b> Örnek 2 </b><br>\n",
    "Sıra ikinci örnekte. Aynı şekilde bu koduda çalıştırın.<br>\n",
    "**Bu bloğun çalışması biraz zaman alabilir. Çalıştığını görmeden diğer adıma geçmeyin!!**\n"
   ]
  },
  {
   "cell_type": "code",
   "execution_count": null,
   "metadata": {
    "colab": {
     "base_uri": "https://localhost:8080/",
     "height": 164
    },
    "colab_type": "code",
    "executionInfo": {
     "elapsed": 2195,
     "status": "error",
     "timestamp": 1570193635615,
     "user": {
      "displayName": "Kaan Ari",
      "photoUrl": "https://lh3.googleusercontent.com/a-/AAuE7mB_ymQwALV3uJOdBT9gznVBCfpSbY6r5a3wFEvYWw=s64",
      "userId": "13279354565943133053"
     },
     "user_tz": -180
    },
    "id": "7b4XsESJZKdm",
    "outputId": "0d231a94-5687-4d5e-e0ec-84479b4fffe3",
    "scrolled": false
   },
   "outputs": [],
   "source": [
    "%matplotlib inline\n",
    "import warnings\n",
    "warnings.filterwarnings(\"ignore\")\n",
    "import matplotlib.pyplot as plt\n",
    "import numpy as np\n",
    "import pandas as pd\n",
    "import seaborn as sns\n",
    "\n",
    "import sys\n",
    "sys.path.insert(1, './assests/')\n",
    "from common_funcs import fonksiyon,decode_secret\n",
    "\n",
    "a=a*2\n",
    "\n",
    "sns.set()\n",
    "r = np.linspace(0, 10, num=100)\n",
    "df = pd.DataFrame({'r': r, 'slow': r, 'medium': 2 * r, 'fast': 4 * r})\n",
    "df = pd.melt(df, id_vars=['r'], var_name='speed', value_name='theta')\n",
    "g = sns.FacetGrid(df, col=\"speed\", hue=\"speed\",\n",
    "                  subplot_kws=dict(projection='polar'), size=4.5,\n",
    "                  sharex=False, sharey=False, despine=False)\n",
    "g.map(plt.scatter, \"theta\", \"r\")\n",
    "\n",
    "c = b'VGFobWluIGVkaXlvcnVtIGtpIHl1a2FyxLFkYWtpIHNhdMSxcmxhcmRhbiBiw7Z5bGUgw6dpemltbGVyIMOnxLFrYWNhxJ/EsW7EsSB0YWhtaW4gZWRlbWV6ZGluaXouCkJ1IMO2cm5lxJ9pIFB5dGhvbidkYW4geml5YWRlIE5vdGVib29rIGlsZSBuZWxlciB5YXBhYmlsZWNlxJ9pbml6aW5kZSBnw7x6ZWwgw7ZybmVrbGVyaW5kZW4gYmlyIHRhbmVzaS4KQnUgbWV0bmkgeXVrYXLEsWRha2kga29kIHNhdMSxcmxhcsSxbmRhIGfDtnLDvHlvcm11c3VudXo/IChCZW5jZSDFn2lmcmVsZW5tacWfIGJpciBtZXRpbiBidWxhYmlsaXJzaW5peik='\n",
    "print(decode_secret(c))"
   ]
  },
  {
   "cell_type": "markdown",
   "metadata": {},
   "source": [
    "<hr>\n",
    "<b> Örnek 3 </b><br>\n",
    "Peki, üst taraftaki bloklarda a'nın 89 olduğunu görmüştük (Hatırlamıyorsanız kontrol edin)<br><br>\n",
    "Şuan görevimiz, 89 sayısını doğrudan kullanmadan c'ye eşitlemek.<br>\n",
    "<b>1)</b> Aşağıdaki hücrede düzenlememiz gereken sadece 1 satır bulunuyor<br>\n",
    "<b>2)</b> c=?<br>\n",
    "<b>3)</b> c'yi doğrudan 89 a eşitlemek yok.<br>\n",
    "<b>İPUCU:</b> Üst taraftaki bloklarda kullanılan değişkenler sıfırlanmıyor. Aynı isimle buradada kullanabilirsiniz. **(Üstteki blokların çalıştırılmış olması gerekiyor)** <br>\n",
    "<b>*Üstteki blokları sırayla çalıştırıp bu aşamaya geldiğinize emin olun!!<b>\n"
   ]
  },
  {
   "cell_type": "code",
   "execution_count": null,
   "metadata": {},
   "outputs": [],
   "source": [
    "c=?\n",
    "\n",
    "fonksiyon(c)"
   ]
  },
  {
   "cell_type": "markdown",
   "metadata": {},
   "source": [
    "<center>Derslerimizde görüşmek üzere. Herhangi bir sorunda çekinmeden <b>kaan.ari.tr@gmail.com</b> adresinden bana ulaşabilirsiniz.</center>"
   ]
  }
 ],
 "metadata": {
  "colab": {
   "collapsed_sections": [],
   "name": "Python-1.ipynb",
   "provenance": []
  },
  "kernelspec": {
   "display_name": "Python 3",
   "language": "python",
   "name": "python3"
  },
  "language_info": {
   "codemirror_mode": {
    "name": "ipython",
    "version": 3
   },
   "file_extension": ".py",
   "mimetype": "text/x-python",
   "name": "python",
   "nbconvert_exporter": "python",
   "pygments_lexer": "ipython3",
   "version": "3.7.3"
  }
 },
 "nbformat": 4,
 "nbformat_minor": 1
}
