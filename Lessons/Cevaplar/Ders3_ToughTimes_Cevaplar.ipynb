{
 "cells": [
  {
   "cell_type": "markdown",
   "metadata": {
    "colab_type": "text",
    "id": "ifvV6hohZR97"
   },
   "source": [
    "<center><img src=\"../assests/robot_logo.svg\" alt=\"8+6*2*3-(15-13)\" width=\"200\">\n",
    "</center>\n",
    "<br>\n",
    "<center>\n",
    "  <b>Hacettepe Robot Topluluğu<br>\n",
    "  Python Dersleri</b><br>\n",
    "  <hr>\n",
    "  <b>Ders :</b> 3&emsp;&emsp;&emsp;<b>Konu :</b> Tough Times (Zor Zamanlar)<br>\n",
    "  <b>Eğitmen :</b> Kaan ARI&emsp;&emsp;&emsp;<b>E-Mail :</b> kaan.ari.tr@gmail.com\n",
    "</center>\n",
    "\n"
   ]
  },
  {
   "cell_type": "markdown",
   "metadata": {},
   "source": [
    "<hr>\n",
    "<center><img src=\"../assests/class.jpg\" alt=\"8+6*2*3-(15-13)\" width=\"500\"></center>\n",
    "<b>Örnek 1 : Class</b><br><br>\n",
    "\n",
    "Bu örnekte sizden geçen haftaki son soruda yaptığımız programın daha anlaşılır ve toplu bir şekilde yazmamız için Hasta bilgilerinin tutulacağı bir Class oluşturmanızı istiyorum.<br><br>\n",
    "\n",
    "<b>1)</b> hasta isminde bir Class tanımlayın.<br>\n",
    "<b>2)</b> class ilk tanımlandığında isim, soyisim, doğum tarihi, Hastalık nedenini ve hastaneye giriş tarihini almanızı istiyorum.<br>\n",
    "<b>3)</b> Ayrıca sizden hastaliklar adında bir dictionary(sözlük) oluşturup, \"cancer\": \"Kanser\",\"broke\": \"Kırık\" ve \"flu\": \"Grip\" bilgilerini girmenizi istiyorum.<br>\n",
    "\n",
    "**Test etmek için oluşturduğunuz Class'ı ve Dictionary 'i ekrana yazdırın. (DİKKAT!)**"
   ]
  },
  {
   "cell_type": "code",
   "execution_count": null,
   "metadata": {},
   "outputs": [],
   "source": [
    "class hasta:\n",
    "    def __init__(self, name, surname, birthdate, diagnose, datein):\n",
    "        self.name = name\n",
    "        self.surname = surname\n",
    "        self.birthdate = birthdate\n",
    "        self.diagnose = diagnose\n",
    "        self.datein = datein\n",
    "        \n",
    "hasta1 = hasta(\"walter\",\"white\",\"1958\",\"Lung Cancer\",\"01/02/2019\")\n",
    "\n",
    "hastaliklar = {\n",
    "  \"cancer\": \"Kanser\",\n",
    "  \"broke\": \"Kırık\",\n",
    "  \"flu\": \"Grip\"\n",
    "}      \n",
    "\n",
    "print(hasta1,hasta1.name,hasta1.surname,hasta1.birthdate,hasta1.diagnose,hasta1.datein)\n",
    "print(hastaliklar)"
   ]
  },
  {
   "cell_type": "markdown",
   "metadata": {},
   "source": [
    "<hr>\n",
    "<b>Örnek 2 : Tarih Zaman</b><br><br>"
   ]
  },
  {
   "cell_type": "markdown",
   "metadata": {},
   "source": [
    "<table>\n",
    "<tbody>\n",
    "<tr>\n",
    "<th style=\"width:30%\"></th>\n",
    "<th style=\"width:40%\"><center>strftime() fonksiyonunun parametreleri</center></th>\n",
    "<th style=\"width:30%\"></th>\n",
    "</tr>    \n",
    "<tr>\n",
    "<th style=\"width:30%\"></th>\n",
    "<th style=\"width:40%\"><center> (Örnek : time.strftime(\"%d\") = 30)</center></th>\n",
    "<th style=\"width:30%\"></th>\n",
    "</tr> \n",
    "<tr>\n",
    "<th style=\"width:30%\"><center>Sembol</center></th>\n",
    "<th style=\"width:40%\"><center>Açıklama</center></th>\n",
    "<th style=\"width:30%\"><center>Örnek</center></th>\n",
    "</tr>\n",
    "<tr>\n",
    "<td><center>%a</center></td>\n",
    "<td><center>Kısaltılmış Gün İsmi</center></td>\n",
    "<td><center>Wed</center></td>\n",
    "</tr>\n",
    "<tr>\n",
    "<td><center>%A</center></td>\n",
    "<td><center>Tam Gün İsmi</center></td>\n",
    "<td><center>Wednesday</center></td>\n",
    "</tr>\n",
    "<tr>\n",
    "<td><center>%w</center></td>\n",
    "<td><center>0-6 arasında numaralandırılmış günler, 0 Pazar günü</center></td>\n",
    "<td><center>3</center></td>\n",
    "</tr>\n",
    "<tr>\n",
    "<td><center>%d</center></td>\n",
    "<td><center>Ayın Günü</center></td>\n",
    "<td><center>31</center></td>\n",
    "</tr>\n",
    "<tr>\n",
    "<td><center>%b</center></td>\n",
    "<td><center>Ayın kısa ismi</center></td>\n",
    "<td><center>Dec</center></td>\n",
    "</tr>\n",
    "<tr>\n",
    "<td><center>%B</center></td>\n",
    "<td><center>Ayın tam ismi</center></td>\n",
    "<td><center>December</center></td>\n",
    "</tr>\n",
    "<tr>\n",
    "<td><center>%m</center></td>\n",
    "<td><center>Ayın numarası 01-12</center></td>\n",
    "<td><center>12</center></td>\n",
    "</tr>\n",
    "<tr>\n",
    "<td><center>%y</center></td>\n",
    "<td><center>Yıl, kısa versiyon</center></td>\n",
    "<td><center>18</center></td>\n",
    "</tr>\n",
    "<tr>\n",
    "<td><center>%Y</center></td>\n",
    "<td><center>Yıl, uzun versiyon</center></td>\n",
    "<td><center>2018</center></td>\n",
    "</tr>\n",
    "<tr>\n",
    "<td><center>%H</center></td>\n",
    "<td><center>Saat 00-23</center></td>\n",
    "<td><center>17</center></td>\n",
    "</tr>\n",
    "<tr>\n",
    "<td><center>%I</center></td>\n",
    "<td><center>Saat 00-12 (Analog)</center></td>\n",
    "<td><center>05</center></td>\n",
    "</tr>\n",
    "<tr>\n",
    "<td><center>%p</center></td>\n",
    "<td><center>AM/PM</center></td>\n",
    "<td><center>PM</center></td>\n",
    "</tr>\n",
    "<tr>\n",
    "<td><center>%M</center></td>\n",
    "<td><center>Dakika 00-59</center></td>\n",
    "<td><center>41</center></td>\n",
    "</tr>\n",
    "<tr>\n",
    "<td><center>%S</center></td>\n",
    "<td><center>Saniye 00-59</center></td>\n",
    "<td><center>08</center></td>\n",
    "</tr>\n",
    "<tr>\n",
    "<td><center>%f</center></td>\n",
    "<td><center>Salise 000000-999999</center></td>\n",
    "<td><center>548513</center></td>\n",
    "</tr>\n",
    "<tr>\n",
    "<td><center>%z</center></td>\n",
    "<td><center>UTC (Saat Dilimi)</center></td>\n",
    "<td><center>+0100</center></td>\n",
    "<td></td>\n",
    "</tr>\n",
    "<tr>\n",
    "<td><center>%Z</center></td>\n",
    "<td><center>Zaman Dilimi</center></td>\n",
    "<td><center>CST</center></td>\n",
    "<td></td>\n",
    "</tr>\n",
    "<tr>\n",
    "<td><center>%j</center></td>\n",
    "<td><center>Yılın kaçıncı günü 001-366</center></td>\n",
    "<td><center>365</center></td>\n",
    "</tr>\n",
    "<tr>\n",
    "<td><center>%U</center></td>\n",
    "<td><center>Yılın kaçıncı haftası, haftanın ilk günü Pazar 00-53</center></td>\n",
    "<td><center>52</center></td>\n",
    "</tr>\n",
    "<tr>\n",
    "<td><center>%W</center></td>\n",
    "<td><center>Yılın kaçıncı haftası, haftanın ilk günü Pazartesi, 00-53</center></td>\n",
    "<td><center>52</center></td>\n",
    "</tr>\n",
    "<tr>\n",
    "<td><center>%c</center></td>\n",
    "<td><center>Yerel Zaman Dilimi (Tarih ve Zaman)</center></td>\n",
    "<td><center>Mon Dec 31 17:41:00 2018</center></td>\n",
    "\n",
    "</tr>\n",
    "<tr>\n",
    "<td><center>%x</center></td>\n",
    "<td><center>Yerel Tarih</center></td>\n",
    "<td><center>12/31/18</center></td>\n",
    "\n",
    "</tr>\n",
    "<tr>\n",
    "<td><center>%X</center></td>\n",
    "<td><center>Yerel Zaman</center></td>\n",
    "<td><center>17:41:00</center></td>\n",
    "</tr>\n",
    "</tbody></table>"
   ]
  },
  {
   "cell_type": "markdown",
   "metadata": {},
   "source": [
    "\n",
    "Bu örnekte geliştirdiğimiz hastane uygulamasına yeni bir özellik eklemek için datetime kütüphanesini kullanacağız. Yukarıdaki tablodan kopya çekebilirsiniz.<br><br>\n",
    "İstenen yeni özellikler artık hastanın yaşının hesaplanması ve kayıt olduğu tarih ve saatin kayıt altına alınmasıdır.\n",
    "<br><br>\n",
    "\n",
    "<b>1)</b> datetime kütüphanesini kodunuza ekleyin. <br>\n",
    "<b>2)</b> Şu anki zamanı döndürecek bir time adında fonksiyon yazın. (now())<br>\n",
    "<b>3)</b> Şu anki zamanı time fonksiyonundan alıp şu anki yılı döndüren year() fonksiyonunu yazın.<br>\n",
    "<b>4)</b> Şu anki zamanı time fonksiyonundan alıp şu anki gün/ay/yıl ı döndüren date() fonksiyonunu yazın.<br>\n",
    "<b>5)</b> Şu anki zamanı time fonksiyonundan alıp şu anki saat:dakika:saniye 'yi döndüren clock() fonksiyonunu yazın.<br>\n",
    "<b>6)</b> Hastanın doğum yılını parametre olarak alıp year fonksiyonu yardımıyla hastanın yaşını döndüren age fonksiyonunu yazın.<br>\n",
    "\n",
    "**Fonksiyonların hepsinin çalışıp çalışmadığını ekrana yazdırarak deneyiniz !!!**"
   ]
  },
  {
   "cell_type": "code",
   "execution_count": null,
   "metadata": {},
   "outputs": [],
   "source": [
    "import datetime\n",
    "\n",
    "def time():\n",
    "    return datetime.datetime.now()\n",
    "\n",
    "def year():\n",
    "    return time().year \n",
    "    #return time().strftime(\"%Y\")\n",
    "    \n",
    "def date():\n",
    "    day = time().strftime(\"%d\") \n",
    "    month = time().strftime(\"%m\") \n",
    "    year = time().strftime(\"%y\") \n",
    "    return day+\"/\"+month+\"/\"+year\n",
    " \n",
    "def age(yearPatient):\n",
    "    return int(year()) - int(yearPatient)\n",
    "\n",
    "print(time())\n",
    "\n",
    "print(year())\n",
    "\n",
    "print(date())\n",
    "\n",
    "print(age(\"1958\"))\n"
   ]
  },
  {
   "cell_type": "markdown",
   "metadata": {},
   "source": [
    "<hr>\n",
    "<center><img src=\"../assests/json.png\" alt=\"8+6*2*3-(15-13)\" width=\"300\"></center>\n",
    "<b>Örnek 3 : JSON ve Bitcoin</b><br><br>\n",
    "\n",
    "\n",
    "Bu örnekte gerçek bir websitesinden gelen JSON veri tipi ile USD - BTC (Dolar - Bitcoin)' in anlık değerini görüntüleyeceğiz. Bu örnek için internete bağlı olmanız ve https://api.bittrex.com/api/v1.1/public/getmarketsummary?market=usd-btc bu adresten HTTP request alıp bunu json veri tipine çevirmeniz gerekiyor. Bu sebeple requests kütüphanesine ihtiyacınız var. Yardımcı olabilecek bir örnek aşağıda verilmiştir (input a BTC girerek örneği deneyebilirsiniz).<br>\n",
    "\n",
    "\n",
    "Bu örnekte json veri tipinin içindeki \"Last\" (USD - BTC son Değeri) değerini ekrana bastırmanızı istiyorum.<br>\n",
    "**TAVSİYE: JSON verinizi adım adım print ederek istediğiniz değere ulaşın!**<br>\n",
    "**İnterneti olmayanlar aşağıdaki kodu yazarak direk json verisini elde edebilirler.**<br>\n",
    " \n",
    "<pre>\n",
    "import sys\n",
    "sys.path.insert(1, '../assests/')\n",
    "from common_funcs import json_ex03\n",
    "json_verisi = json_ex03()</pre>"
   ]
  },
  {
   "cell_type": "code",
   "execution_count": null,
   "metadata": {
    "colab": {
     "base_uri": "https://localhost:8080/",
     "height": 164
    },
    "colab_type": "code",
    "executionInfo": {
     "elapsed": 2195,
     "status": "error",
     "timestamp": 1570193635615,
     "user": {
      "displayName": "Kaan Ari",
      "photoUrl": "https://lh3.googleusercontent.com/a-/AAuE7mB_ymQwALV3uJOdBT9gznVBCfpSbY6r5a3wFEvYWw=s64",
      "userId": "13279354565943133053"
     },
     "user_tz": -180
    },
    "id": "7b4XsESJZKdm",
    "outputId": "0d231a94-5687-4d5e-e0ec-84479b4fffe3"
   },
   "outputs": [],
   "source": [
    "import requests # request kütüphanesini ekledik.\n",
    "api=\"https://bittrex.com/api/v1.1/public/getmarketsummaries\" #  API linki \n",
    "type_coin=input(\"Oranlarını Görmek İstediğiniz Coin Türünü Giriniz:\") # Kullanıcıdan input aldık.\n",
    "response=requests.get(api) # GET isteği ile API a bağlandık ve cevabını aldık.\n",
    "json_verisi=response.json() # Alınan cevabı Python Dictionary'e çevirdik.\n",
    "for i in range(0,10): # Çok fazla Para Birimi geldiği için içinden ilk 10 tanesini aldıık.\n",
    "    if type_coin==json_verisi[\"result\"][i][\"MarketName\"][:3]:\n",
    "            print(\"1\",json_verisi[\"result\"][i][\"MarketName\"][4:],\" == \",format(json_verisi[\"result\"][i][\"Last\"], '.8f'),type_coin)\n"
   ]
  },
  {
   "cell_type": "code",
   "execution_count": null,
   "metadata": {},
   "outputs": [],
   "source": [
    "import requests\n",
    "api1=\"https://api.bittrex.com/api/v1.1/public/getmarketsummary?market=usd-btc\"\n",
    "response=requests.get(api1)\n",
    "json_verisi=response.json()\n",
    "print(json_verisi)\n",
    "print(type(json_verisi))\n",
    "print(json_verisi[\"result\"])\n",
    "print(json_verisi[\"result\"][0])\n",
    "print(json_verisi[\"result\"][0][\"Last\"]) # Adım adım istediğimiz değeri JSON'dan çıkarttık."
   ]
  },
  {
   "cell_type": "markdown",
   "metadata": {},
   "source": [
    "<hr>\n",
    "<center><img src=\"../assests/file_op.png\" alt=\"8+6*2*3-(15-13)\" width=\"400\"></center>\n",
    "\n",
    "<b>Örnek 4 : Dosya İşlemleri</b><br><br>\n",
    "\n",
    "\n",
    "Bu örnekte Hastane programımıza tekrar devam ediyoruz. Sizden hastaların sürekli tutulduğu bir <span style=\"color:blue;\"><b>hastalar.txt</b></span> dosyasında işlem yapan <span style=\"color:green;\"><b>kayit( )</b></span>, <span style=\"color:green;\"><b>taburcu( )</b></span>, <span style=\"color:green;\"><b>listele( )</b></span>, <span style=\"color:green;\"><b>ara( )</b></span> ve <span style=\"color:green;\"><b>kaydet( )</b></span> metodlarını yazmanızı istiyorum. Sizin için <span style=\"color:blue;\"><b>hastalar.txt</b></span>'yi assests klasörünün içerinde tanımladım.<br><br>\n",
    "\n",
    "<b><span style=\"color:blue;\">hastalar</span> Class'ına ekleyeceğiniz metodlar:</b><br>\n",
    "<span style=\"color:green;\"><b>kayit( ):</b></span> hastalar Class'ına yeni hasta kaydedecek.<br>\n",
    "<span style=\"color:green;\"><b>taburcu( ):</b></span> hastalar Class'ında hangi hasta ismi silinecekse onun bulunduğu obje silinecek.<br>\n",
    "<span style=\"color:green;\"><b>listele( ):</b></span> hastalar Class'ındaki tüm hastaları liste şeklinde gösterecek.<br>\n",
    "<span style=\"color:green;\"><b>ara( ):</b></span> hastalar Class'ında girilen ismi arayıp Boolean(True,False) sonuç döndürecek.<br>\n",
    "<span style=\"color:green;\"><b>kaydet( ):</b></span> hastalar Class'hastalari new_hastalar.txt dosyasına kaydedecek. Hastaları kaydetme formatı hastalar.txt ile aynı olacaktır.(STRING Format!!!) Write modunda açmayı unutmayın.<br>\n",
    "<span style=\"color:green;\"><b>guncelleme( ):</b></span> <span style=\"color:blue;\">hastalar Class</span>'ında istenilen hastanın index'ini bulup <span style=\"color:blue;\">hasta Class</span>'ındaki <span style=\"color:blue;\"><b>guncelleme( )</b></span> fonksiyonunu çağıracak.<br><br>\n",
    "\n",
    "\n",
    "\n",
    "<b><span style=\"color:blue;\">hasta</span> Class'ına eklediğim metod:</b><br>\n",
    "<span style=\"color:green;\"><b>guncelleme( ):</b></span> <span style=\"color:blue;\">hasta Class</span>'ında hastanın bilgilerini yenileri ile güncelleyecek.<br><br>\n",
    "\n",
    "Daha önceki örneklerde oluşturduğumuz <span style=\"color:blue;\">hasta Class</span>'ını biraz değiştirerek ekledim. Sizin için programın birazını yazıp size örnek kodlar bıraktım. Bu fonksiyondan yararlanabilirsiniz. \n",
    "\n",
    "Size çok zor gelebileceği için sadece 2 adet metodu seçtim onları yazmanızı istiyorum :) . Bu metodlar <span style=\"color:green;\"><b>kaydet( )</b></span> ve <span style=\"color:green;\"><b>listele( )</b></span> fonksiyonlarıdır. Geri kalan her şey çalışmaktadır.  "
   ]
  },
  {
   "cell_type": "code",
   "execution_count": null,
   "metadata": {},
   "outputs": [],
   "source": [
    "import datetime\n",
    "\n",
    "def time():\n",
    "    return datetime.datetime.now().strftime(\"%Y-%m-%d %H:%M:%S\") # Daha önceki çözümümüzün formatlanmış hali\n",
    "\n",
    "def to_timeObj(timeStr): # Time kütüphanesini kullanarak txt dosyasındaki STRING olan time bilgisini time objesine çeviriyoruz.\n",
    "    return datetime.datetime.strptime(timeStr, '%Y-%m-%d %H:%M:%S')\n",
    "\n",
    "class hasta: # Hasta Class'ımız.\n",
    "    def __init__(self, name, surname, birthdate, diagnose, datein):\n",
    "        self.name = (name.lower()).capitalize()\n",
    "        self.surname = (surname.lower()).capitalize()\n",
    "        self.birthdate = birthdate\n",
    "        self.diagnose = (diagnose.lower()).title()\n",
    "        self.datein = datein\n",
    "        \n",
    "    def guncelleme(self): # Bu method çağırıldığında yeni inputları Classımıza atıyor.\n",
    "        self.name = (input(\"İsim: \").lower()).capitalize() # Bütün inputları aynı formatta almamız gerekiyor.\n",
    "        self.surname = (input(\"Soyisim: \").lower()).capitalize()\n",
    "        self.birthdate = (input(\"Doğum Tarihi: \").lower()).capitalize()\n",
    "        self.diagnose = (input(\"Teşhis: \").lower()).capitalize()\n",
    "        \n",
    "        \n",
    "class hastalar:\n",
    "    def __init__(self):\n",
    "        self.liste = [] # Hastaları bu listede tutacağız.\n",
    "        self.sayi = 0 # Hastanedeki hasta sayısı    \n",
    "        self.yukle() # Hasta listesini hastalar class'ı oluşturulduğunda oluşturduk.\n",
    "\n",
    "    def yukle(self): # TXT'te dosyasından hastanede kayıtlı hastaları okuduk.\n",
    "        file = open(\"../assests/hastalar.txt\", \"r\")\n",
    "        self.hasta_sayisi = 0\n",
    "        for line in file:\n",
    "            hasta_bilgileri = line[:-1].split(\"-*-\")# [:-1] satır sonlarındaki /n (yeni satır) leri silmek için kullandık. Bilgileri -*-'lerden ayırıp listeye dönüştürdük. ([\"Walter\",\"White\",\"1958\",\"Lung Cancer\",\"2019-10-19 23:08:44\"])\n",
    "            hastaClass = hasta(hasta_bilgileri[0],hasta_bilgileri[1],hasta_bilgileri[2],hasta_bilgileri[3],to_timeObj(hasta_bilgileri[4])) # Hasta Class'ımızı oluşturduk.\n",
    "            self.liste.append(hastaClass) # Hasta listesine hasta classlarımızı ekledik.\n",
    "            self.sayi += 1\n",
    "                        \n",
    "    def kayit(self): # kullanıcıdan aldığı inputları hastalar classımızdaki listeye ekliyoruz.\n",
    "        newHasta = hasta(input(\"İsim: \"),input(\"Soyisim: \"),input(\"Doğum Yılı: \"),input(\"Teşhis: \"),to_timeObj(time()))\n",
    "        self.liste.append(newHasta) # Hasta listesine hasta classlarımızı ekledik.\n",
    "        self.sayi += 1\n",
    "      \n",
    "    def ara(self,name): # Fonksiyona gelen name parametresini Hastalar Classımızın listesinde arıyoruz.\n",
    "        for hastalar in self.liste:\n",
    "            if hastalar.name == name:\n",
    "                print(\"Hasta hastanemizde kayıtlıdır.\")\n",
    "                return True\n",
    "        print(\"Hasta hastanemizde kayıtlı değildir.\")\n",
    "        return False\n",
    "    \n",
    "    def taburcu(self): # Ilk önce silmek istedigimiz ismin olup olmadıgını kontrol edip varsa listeden siliyoruz.\n",
    "        name = (input(\"Hasta İsmi: \").lower()).capitalize()\n",
    "        if self.ara(name):\n",
    "            for hastalar in self.liste:\n",
    "                if hastalar.name == name:\n",
    "                    del self.liste[self.liste.index(hastalar)]\n",
    "            self.sayi -=1\n",
    "            print(\"Hasta Başarıyla Taburcu Edilmiştir.\") \n",
    "            \n",
    "    def listele(self):\n",
    "        for i in range(len(self.liste)):\n",
    "            print(str(i+1) + \") \" + self.liste[i].name + \" \" + self.liste[i].surname + \" \" +self.liste[i].birthdate + \" \" +self.liste[i].diagnose)\n",
    "\n",
    "    def kaydet(self):\n",
    "        file = open(\"../assests/hastalar.txt\", \"w\")\n",
    "        for hastalar in self.liste:\n",
    "            line = hastalar.name + \"-*-\" + hastalar.surname + \"-*-\" + hastalar.birthdate + \"-*-\" + hastalar.diagnose + \"-*-\" + str(hastalar.datein)+\"\\n\"\n",
    "            file.write(line)\n",
    "    \n",
    "    def guncelleme(self): # DİKKAT : Bu metodla hasta Classının guncelleme metodunu çağırıyoruz. Bu konu anlamanız çok önemli.\n",
    "        name = (input(\"Hasta İsmi: \").lower()).capitalize()\n",
    "        if self.ara(name):\n",
    "            \n",
    "            newHasta = hasta(input(\"İsim: \"),input(\"Soyisim: \"),input(\"Doğum Yılı: \"),input(\"Teşhis: \"),time())   \n",
    "            self.liste[name in self.liste] = newHasta\n",
    " \n",
    "\n",
    "#Hastalar = hastalar()\n",
    "#Hastalar.listele()"
   ]
  },
  {
   "cell_type": "markdown",
   "metadata": {},
   "source": [
    "<hr>\n",
    "<center><img src=\"../assests/hospital.jpg\" alt=\"8+6*2*3-(15-13)\" width=\"700\"></center>\n",
    "\n",
    "<b>Örnek 5 : Try-Except Yapısı</b><br><br>\n",
    "\n",
    "\n",
    "Bu örnekte Hastane programımıza artık noktayı koyuyoruz. Bir önceki örnekte yazdığımız kodu kullanarak üzerinde bir kaç değişiklik yapmamız gerekiyor. Sizin için geçen hafta tasarladığımız arayüzü menu fonksiyonuyla beraber kodumuza ekledim.<br><br>\n",
    "Bu değişiklikler;<br>\n",
    "<b>1)</b> Sürekli çalışacak bir <span style=\"color:blue;\">main( )</span> fonksiyon tanımlayalım (sürekli çalışmanın while olduğunu bilmiyorsan ayıp!)<br>\n",
    "<b>2)</b> Bu fonksiyon önce <span style=\"color:blue;\">menu( )</span> fonksiyonunu çağıracak ve kullanıcıdan input bekleyecek.<br>\n",
    "<b>3)</b> Kullanıcıdan gelen input'un integer'a çevrilebilir olup olmadığını <span style=\"color:green;\"><b>try except</b></span> yapısı ile kontrol edecek integer'a çevrilemeyen bir input gelirse <span style=\"color:darkred;\"><b>\"Hatalı Giriş\"</b></span> yazdırıp tekrar kullanıcıdan input bekleyecek.<br>\n",
    "<b>4)</b> Ardında integer'a çevirdiğimiz değerleri kontrol edecek:<br>\n",
    "&emsp;<b>a)</b> Eğer <b>0</b> ise TXT dosyasına kaydedip programdan çıkacak (kaydet methodu!!).<br>\n",
    "&emsp;<b>b)</b> Eğer <b>1</b> ise Hasta Kayıt yapılacak.<br>\n",
    "&emsp;<b>c)</b> Eğer <b>2</b> ise Hasta Taburcu yapılacak.<br>\n",
    "&emsp;<b>d)</b> Eğer <b>3</b> ise Hasta Arama yapılacak. (Dikkat!!)<br>\n",
    "&emsp;<b>e)</b> Eğer <b>4</b> ise Hasta Güncelleme yapılacak.<br>\n",
    "&emsp;<b>f)</b> Eğer <b>5</b> ise Hastaları Listeleyecek.<br>\n",
    "<b>5)</b> Fonksiyon tanımlaması bittikten sonra fonksiyon en aşağıda çağırılacak.<br>\n",
    "<b>6)</b> Bu aşamada kodunuzun doğru çalışıp çalışmadığını test ediniz.<br><br>\n",
    "\n",
    "Bu fonksiyonlar zaten bir önceki örnekte yazılmış bulunmaktadır. Bir önceki örnekteki class metodlarını kullanarak <span style=\"color:blue;\">main( )</span> fonksiyonunu rahatlıkla oluşturabilirsiniz.<br>"
   ]
  },
  {
   "cell_type": "code",
   "execution_count": null,
   "metadata": {},
   "outputs": [],
   "source": [
    "import datetime\n",
    "\n",
    "def time():\n",
    "    return datetime.datetime.now().strftime(\"%Y-%m-%d %H:%M:%S\") # Daha önceki çözümümüzün formatlanmış hali\n",
    "\n",
    "def to_timeObj(timeStr): # Time kütüphanesini kullanarak txt dosyasındaki STRING olan time bilgisini time objesine çeviriyoruz.\n",
    "    return datetime.datetime.strptime(timeStr, '%Y-%m-%d %H:%M:%S')\n",
    "\n",
    "class hasta: # Hasta Class'ımız.\n",
    "    def __init__(self, name, surname, birthdate, diagnose, datein):\n",
    "        self.name = (name.lower()).capitalize()\n",
    "        self.surname = (surname.lower()).capitalize()\n",
    "        self.birthdate = birthdate\n",
    "        self.diagnose = (diagnose.lower()).title()\n",
    "        self.datein = datein\n",
    "        \n",
    "    def guncelleme(self): # Bu method çağırıldığında yeni inputları Classımıza atıyor.\n",
    "        self.name = (input(\"İsim: \").lower()).capitalize() # Bütün inputları aynı formatta almamız gerekiyor.\n",
    "        self.surname = (input(\"Soyisim: \").lower()).capitalize()\n",
    "        self.birthdate = (input(\"Doğum Tarihi: \").lower()).capitalize()\n",
    "        self.diagnose = (input(\"Teşhis: \").lower()).capitalize()\n",
    "        \n",
    "        \n",
    "class hastalar:\n",
    "    def __init__(self):\n",
    "        self.liste = [] # Hastaları bu listede tutacağız.\n",
    "        self.sayi = 0 # Hastanedeki hasta sayısı    \n",
    "        self.yukle() # Hasta listesini hastalar class'ı oluşturulduğunda oluşturduk.\n",
    "\n",
    "    def yukle(self): # TXT'te dosyasından hastanede kayıtlı hastaları okuduk.\n",
    "        file = open(\"../assests/hastalar.txt\", \"r\")\n",
    "        self.hasta_sayisi = 0\n",
    "        for line in file:\n",
    "            hasta_bilgileri = line[:-1].split(\"-*-\")# [:-1] satır sonlarındaki /n (yeni satır) leri silmek için kullandık. Bilgileri -*-'lerden ayırıp listeye dönüştürdük. ([\"Walter\",\"White\",\"1958\",\"Lung Cancer\",\"2019-10-19 23:08:44\"])\n",
    "            hastaClass = hasta(hasta_bilgileri[0],hasta_bilgileri[1],hasta_bilgileri[2],hasta_bilgileri[3],to_timeObj(hasta_bilgileri[4])) # Hasta Class'ımızı oluşturduk.\n",
    "            self.liste.append(hastaClass) # Hasta listesine hasta classlarımızı ekledik.\n",
    "            self.sayi += 1\n",
    "                        \n",
    "    def kayit(self): # kullanıcıdan aldığı inputları hastalar classımızdaki listeye ekliyoruz.\n",
    "        newHasta = hasta(input(\"İsim: \"),input(\"Soyisim: \"),input(\"Doğum Yılı: \"),input(\"Teşhis: \"),to_timeObj(time()))\n",
    "        self.liste.append(newHasta) # Hasta listesine hasta classlarımızı ekledik.\n",
    "        self.sayi += 1\n",
    "      \n",
    "    def ara(self,name): # Fonksiyona gelen name parametresini Hastalar Classımızın listesinde arıyoruz.\n",
    "        for hastalar in self.liste:\n",
    "            if hastalar.name == name:\n",
    "                print(\"Hasta hastanemizde kayıtlıdır.\")\n",
    "                return True\n",
    "        print(\"Hasta hastanemizde kayıtlı değildir.\")\n",
    "        return False\n",
    "    \n",
    "    def taburcu(self): # Ilk önce silmek istedigimiz ismin olup olmadıgını kontrol edip varsa listeden siliyoruz.\n",
    "        name = (input(\"Hasta İsmi: \").lower()).capitalize()\n",
    "        if self.ara(name):\n",
    "            for hastalar in self.liste:\n",
    "                if hastalar.name == name:\n",
    "                    del self.liste[self.liste.index(hastalar)]\n",
    "            self.sayi -=1\n",
    "            print(\"Hasta Başarıyla Taburcu Edilmiştir.\") \n",
    "            \n",
    "    def listele(self):\n",
    "        for i in range(len(self.liste)):\n",
    "            print(str(i+1) + \") \" + self.liste[i].name + \" \" + self.liste[i].surname + \" \" +self.liste[i].birthdate + \" \" +self.liste[i].diagnose)\n",
    "\n",
    "    def kaydet(self):\n",
    "        file = open(\"../assests/hastalar.txt\", \"w\")\n",
    "        for hastalar in self.liste:\n",
    "            line = hastalar.name + \"-*-\" + hastalar.surname + \"-*-\" + hastalar.birthdate + \"-*-\" + hastalar.diagnose + \"-*-\" + str(hastalar.datein)+\"\\n\"\n",
    "            file.write(line)\n",
    "    \n",
    "    def guncelleme(self): # DİKKAT : Bu metodla hasta Classının guncelleme metodunu çağırıyoruz. Bu konu anlamanız çok önemli.\n",
    "        name = (input(\"Hasta İsmi: \").lower()).capitalize()\n",
    "        if self.ara(name):\n",
    "            \n",
    "            newHasta = hasta(input(\"İsim: \"),input(\"Soyisim: \"),input(\"Doğum Yılı: \"),input(\"Teşhis: \"),time())   \n",
    "            self.liste[name in self.liste] = newHasta\n",
    "\n",
    "def menu():\n",
    "    print(\"----------------------------\")\n",
    "    print(\"1) HASTA KAYIT\")\n",
    "    print(\"----------------------------\")\n",
    "    print(\"2) HASTA TABURCU\")    \n",
    "    print(\"----------------------------\")\n",
    "    print(\"3) HASTA ARA\")\n",
    "    print(\"----------------------------\")\n",
    "    print(\"4) HASTA GÜNCELLE\")\n",
    "    print(\"----------------------------\")\n",
    "    print(\"5) HASTALARI GÖRÜNTÜLE\")\n",
    "    print(\"----------------------------\")\n",
    "    print(\"0) ÇIKIŞ\")\n",
    "    print(\"----------------------------\")\n",
    "\n",
    "############################## BU SATIRDAN YUKARISI DEĞİŞTİRİLMEYECEKTİR. ################################\n",
    "    \n",
    "def main():\n",
    "    \n",
    "    Hastalar = hastalar()\n",
    "    \n",
    "    while 1:\n",
    "        \n",
    "        ##METOD 1 \n",
    "        '''      \n",
    "        menu()\n",
    "        islem = input(\"İşlem Seçiniz: \")\n",
    "        try:\n",
    "            islem = int(islem)\n",
    "            if islem == 0:\n",
    "                Hastalar.kaydet()\n",
    "                break\n",
    "            elif islem == 1:\n",
    "                Hastalar.kayit()\n",
    "            elif islem == 2:\n",
    "                Hastalar.taburcu()\n",
    "            elif islem == 3:\n",
    "                name = (input(\"Hasta İsmi: \").lower()).capitalize()\n",
    "                Hastalar.ara(name)\n",
    "            elif islem == 4:\n",
    "                Hastalar.guncelleme()\n",
    "            elif islem == 5:\n",
    "                Hastalar.listele()\n",
    "            else:\n",
    "                print(\"Hatalı Giriş\")\n",
    "                \n",
    "        except:\n",
    "            print(\"Hatalı Giriş\")\n",
    "            continue\n",
    "        ''' \n",
    "        \n",
    "        ## METOD 2 (Daha Okunaklı)\n",
    "        \n",
    "        menu()\n",
    "        while 1:\n",
    "            try:\n",
    "                islem = int(input(\"İşlem Seçiniz: \"))\n",
    "                break\n",
    "            except:\n",
    "                print(\"Hatalı Giriş\")\n",
    "                continue\n",
    "        \n",
    "        if islem == 0:\n",
    "            Hastalar.kaydet()\n",
    "            break\n",
    "        elif islem == 1:\n",
    "            Hastalar.kayit()\n",
    "        elif islem == 2:\n",
    "            Hastalar.taburcu()\n",
    "        elif islem == 3:\n",
    "            name = (input(\"Hasta İsmi: \").lower()).capitaliaze()\n",
    "            Hastalar.ara()\n",
    "        elif islem == 4:\n",
    "            Hastalar.guncelleme()\n",
    "        elif islem == 5:\n",
    "            Hastalar.listele()\n",
    "        else:\n",
    "            print(\"Hatalı Giriş\")\n",
    "           \n",
    "            \n",
    "main()"
   ]
  },
  {
   "cell_type": "markdown",
   "metadata": {},
   "source": [
    "<hr>\n",
    "<center><b>Slaytta Kullanılan Kodlar :</b></center>"
   ]
  },
  {
   "cell_type": "code",
   "execution_count": 59,
   "metadata": {},
   "outputs": [
    {
     "name": "stdout",
     "output_type": "stream",
     "text": [
      "{'brand': 'Ford', 'model': 'Mustang'}\n"
     ]
    }
   ],
   "source": [
    "dict = {\"brand\": \"Ford\",\"model\": \"Mustang\"}\n",
    "print(dict)"
   ]
  },
  {
   "cell_type": "code",
   "execution_count": 62,
   "metadata": {},
   "outputs": [
    {
     "name": "stdout",
     "output_type": "stream",
     "text": [
      "Mustang\n"
     ]
    }
   ],
   "source": [
    "thisdict = {\n",
    "  \"brand\": \"Ford\",\n",
    "  \"model\": \"Mustang\",\n",
    "  \"year\": 1964\n",
    "}\n",
    "x = thisdict[\"model\"]\n",
    "print(x)"
   ]
  },
  {
   "cell_type": "code",
   "execution_count": 64,
   "metadata": {},
   "outputs": [
    {
     "name": "stdout",
     "output_type": "stream",
     "text": [
      "Mustang\n",
      "Mustang\n"
     ]
    }
   ],
   "source": [
    "liste = [\"Ford\",\"Mustang\",1964]\n",
    "print(liste[1])\n",
    "\n",
    "thisdict = {\n",
    "  \"brand\": \"Ford\",\n",
    "  \"model\": \"Mustang\",\n",
    "  \"year\": 1964\n",
    "}\n",
    "x = thisdict[\"model\"]\n",
    "print(x)"
   ]
  },
  {
   "cell_type": "code",
   "execution_count": 65,
   "metadata": {},
   "outputs": [
    {
     "name": "stdout",
     "output_type": "stream",
     "text": [
      "Fiesta\n"
     ]
    }
   ],
   "source": [
    "thisdict = {\n",
    "  \"brand\": \"Ford\",\n",
    "  \"model\": \"Mustang\",\n",
    "  \"year\": 1964\n",
    "}\n",
    "thisdict[\"model\"] = \"Fiesta\"\n",
    "print(thisdict[\"model\"])"
   ]
  },
  {
   "cell_type": "code",
   "execution_count": 66,
   "metadata": {},
   "outputs": [
    {
     "name": "stdout",
     "output_type": "stream",
     "text": [
      "red\n"
     ]
    }
   ],
   "source": [
    "thisdict = {\n",
    "  \"brand\": \"Ford\",\n",
    "  \"model\": \"Mustang\",\n",
    "  \"year\": 1964\n",
    "}\n",
    "thisdict[\"color\"] = \"red\"\n",
    "print(thisdict[\"color\"])"
   ]
  },
  {
   "cell_type": "code",
   "execution_count": 67,
   "metadata": {},
   "outputs": [
    {
     "name": "stdout",
     "output_type": "stream",
     "text": [
      "{'brand': 'Ford', 'year': 1964}\n"
     ]
    }
   ],
   "source": [
    "thisdict = {\n",
    "  \"brand\": \"Ford\",\n",
    "  \"model\": \"Mustang\",\n",
    "  \"year\": 1964\n",
    "}\n",
    "thisdict.pop(\"model\")\n",
    "print(thisdict)"
   ]
  },
  {
   "cell_type": "code",
   "execution_count": 68,
   "metadata": {},
   "outputs": [
    {
     "name": "stdout",
     "output_type": "stream",
     "text": [
      "True\n"
     ]
    }
   ],
   "source": [
    "thisdict = {\n",
    "  \"brand\": \"Ford\",\n",
    "  \"model\": \"Mustang\",\n",
    "  \"year\": 1964\n",
    "}\n",
    "\n",
    "print(\"model\" in thisdict)"
   ]
  },
  {
   "cell_type": "code",
   "execution_count": 69,
   "metadata": {},
   "outputs": [
    {
     "name": "stdout",
     "output_type": "stream",
     "text": [
      "Ford\n",
      "Mustang\n",
      "1964\n"
     ]
    }
   ],
   "source": [
    "thisdict = {\n",
    "  \"brand\": \"Ford\",\n",
    "  \"model\": \"Mustang\",\n",
    "  \"year\": 1964\n",
    "}\n",
    "\n",
    "for x in thisdict:\n",
    "    print(thisdict[x])"
   ]
  },
  {
   "cell_type": "code",
   "execution_count": 18,
   "metadata": {},
   "outputs": [
    {
     "name": "stdout",
     "output_type": "stream",
     "text": [
      "5\n",
      "5\n"
     ]
    }
   ],
   "source": [
    "class MyClass: # CLASS\n",
    "    x = 5\n",
    "\n",
    "p1 = MyClass() # OBJE\n",
    "print(p1.x)\n",
    "print(MyClass.x)"
   ]
  },
  {
   "cell_type": "code",
   "execution_count": 17,
   "metadata": {},
   "outputs": [
    {
     "name": "stdout",
     "output_type": "stream",
     "text": [
      "Kaan\n",
      "36\n",
      "White\n"
     ]
    }
   ],
   "source": [
    "class Person:\n",
    "    def __init__(self, name, age):\n",
    "        self.name = name\n",
    "        self.age = age\n",
    "        self.nation = \"White\"\n",
    "\n",
    "p1 = Person(\"Kaan\", 36)\n",
    "print(p1.name)\n",
    "print(p1.age)\n",
    "print(p1.nation)"
   ]
  },
  {
   "cell_type": "code",
   "execution_count": 26,
   "metadata": {},
   "outputs": [
    {
     "name": "stdout",
     "output_type": "stream",
     "text": [
      "İNSAN\n",
      "Kaan\n",
      "İNSAN\n"
     ]
    }
   ],
   "source": [
    "class Person:\n",
    "    name = \"İNSAN\"\n",
    "    def __init__(self, name, age):\n",
    "        self.name = name\n",
    "        self.age = age\n",
    "        self.nation = \"White\"\n",
    "print(Person.name)\n",
    "p1 = Person(\"Kaan\", 36)\n",
    "print(p1.name)\n",
    "print(Person.name)"
   ]
  },
  {
   "cell_type": "code",
   "execution_count": 31,
   "metadata": {},
   "outputs": [
    {
     "ename": "AttributeError",
     "evalue": "type object 'Person' has no attribute 'age'",
     "output_type": "error",
     "traceback": [
      "\u001b[0;31m---------------------------------------------------------------------------\u001b[0m",
      "\u001b[0;31mAttributeError\u001b[0m                            Traceback (most recent call last)",
      "\u001b[0;32m<ipython-input-31-91c076e0216a>\u001b[0m in \u001b[0;36m<module>\u001b[0;34m\u001b[0m\n\u001b[1;32m      6\u001b[0m         \u001b[0mself\u001b[0m\u001b[0;34m.\u001b[0m\u001b[0mnation\u001b[0m \u001b[0;34m=\u001b[0m \u001b[0;34m\"White\"\u001b[0m\u001b[0;34m\u001b[0m\u001b[0;34m\u001b[0m\u001b[0m\n\u001b[1;32m      7\u001b[0m \u001b[0;34m\u001b[0m\u001b[0m\n\u001b[0;32m----> 8\u001b[0;31m \u001b[0mprint\u001b[0m\u001b[0;34m(\u001b[0m\u001b[0mPerson\u001b[0m\u001b[0;34m.\u001b[0m\u001b[0mage\u001b[0m\u001b[0;34m)\u001b[0m\u001b[0;34m\u001b[0m\u001b[0;34m\u001b[0m\u001b[0m\n\u001b[0m",
      "\u001b[0;31mAttributeError\u001b[0m: type object 'Person' has no attribute 'age'"
     ]
    }
   ],
   "source": [
    "class Person:\n",
    "    name = \"İNSAN\"\n",
    "    def __init__(self, name, age):\n",
    "        self.name = name\n",
    "        self.age = age\n",
    "        self.nation = \"White\"\n",
    "\n",
    "print(Person.age)"
   ]
  },
  {
   "cell_type": "code",
   "execution_count": 32,
   "metadata": {},
   "outputs": [
    {
     "name": "stdout",
     "output_type": "stream",
     "text": [
      "İNSAN 200000\n",
      "Kaan White 12000 0 İNSAN 200000\n",
      "Kaan White 12000 1 İNSAN 200000\n",
      "True\n",
      "Kaan White 7000 1 İNSAN 200000\n",
      "KAAN\n",
      "Kaan White 7000 1 İNSAN 200010\n"
     ]
    }
   ],
   "source": [
    "class Person:\n",
    "    name = \"İNSAN\"\n",
    "    age = 200000\n",
    "    def __init__(self,name,mon):\n",
    "        self.name = name\n",
    "        self.nation = \"White\"\n",
    "        self.money = mon\n",
    "        self.age = 0\n",
    "\n",
    "    def buy(self,price):\n",
    "        if price > self.money:\n",
    "            return False\n",
    "        self.money -= price\n",
    "        return True\n",
    "\n",
    "    def growUp(self):\n",
    "        self.age += 1\n",
    "\n",
    "    @staticmethod\n",
    "    def speak():\n",
    "        print(\"KAAN\")\n",
    "\n",
    "    @classmethod\n",
    "    def growUpHuman(cls,year):\n",
    "        cls.age = cls.age + year\n",
    "\n",
    "\n",
    "print(Person.name,Person.age)\n",
    "p1 = Person(\"Kaan\",12000)\n",
    "print(p1.name,p1.nation,p1.money,p1.age,Person.name,Person.age)\n",
    "p1.growUp()\n",
    "print(p1.name,p1.nation,p1.money,p1.age,Person.name,Person.age)\n",
    "print(p1.buy(5000))\n",
    "print(p1.name,p1.nation,p1.money,p1.age,Person.name,Person.age)\n",
    "Person.growUpHuman(10)\n",
    "p1.speak()\n",
    "print(p1.name,p1.nation,p1.money,p1.age,Person.name,Person.age)"
   ]
  },
  {
   "cell_type": "code",
   "execution_count": 34,
   "metadata": {},
   "outputs": [
    {
     "name": "stdout",
     "output_type": "stream",
     "text": [
      "İNSAN 200000\n"
     ]
    }
   ],
   "source": [
    "class Person:\n",
    "    name = \"İNSAN\"\n",
    "    age = 200000\n",
    "    def __init__(self,name,mon):\n",
    "        self.name = name\n",
    "        self.nation = \"White\"\n",
    "        self.money = mon\n",
    "        self.age = 0\n",
    "\n",
    "    def buy(self,price):\n",
    "        if price > self.money:\n",
    "            return False\n",
    "        self.money -= price\n",
    "        return True\n",
    "\n",
    "    def growUp(self):\n",
    "        self.age += 1\n",
    "\n",
    "    @staticmethod\n",
    "    def speak():\n",
    "        print(\"KAAN\")\n",
    "\n",
    "    @classmethod\n",
    "    def growUpHuman(cls,year):\n",
    "        cls.age = cls.age + year\n",
    "\n",
    "\n",
    "print(Person.name,Person.age)\n",
    "p1 = Person(\"Kaan\",12000)\n",
    "\n",
    "p1.buy(1000)\n",
    "p1.growUp()"
   ]
  },
  {
   "cell_type": "code",
   "execution_count": 37,
   "metadata": {},
   "outputs": [
    {
     "name": "stdout",
     "output_type": "stream",
     "text": [
      "Ayşe White 5000\n",
      "Kaan White 1200 21928001\n",
      "Studying\n",
      "Baki White 3000 21928002\n",
      "Studying\n"
     ]
    }
   ],
   "source": [
    "class Person:\n",
    "    name = \"İNSAN\"\n",
    "    age = 200000\n",
    "\n",
    "    def __init__(self,name,para):\n",
    "        self.name = name\n",
    "        self.nation = \"White\"\n",
    "        self.money = para\n",
    "        self.age = 0\n",
    "\n",
    "    def growUp(self):\n",
    "        self.age += 1\n",
    "\n",
    "class Student(Person):\n",
    "    id = 21928000\n",
    "    def __init__(self,name,money,yil):\n",
    "        Student.id = Student.id + 1\n",
    "        self.student_id = Student.id\n",
    "        self.yil = yil\n",
    "        Person.__init__(self, name, money) \n",
    "        #super().__init__(self, name, money) \n",
    "\n",
    "    def study(self):\n",
    "        print(\"Studying\")\n",
    "\n",
    "p1 = Person(\"Ayşe\",5000)\n",
    "print(p1.name,p1.nation,p1.money)\n",
    "p1.growUp()\n",
    "\n",
    "s1 = Student(\"Kaan\",1200,2019)\n",
    "print(s1.name,s1.nation,s1.money,s1.student_id)\n",
    "s1.growUp()\n",
    "s1.study()\n",
    "\n",
    "s1 = Student(\"Baki\",3000,2019)\n",
    "print(s1.name,s1.nation,s1.money,s1.student_id)\n",
    "s1.growUp()\n",
    "s1.study()"
   ]
  },
  {
   "cell_type": "code",
   "execution_count": 40,
   "metadata": {},
   "outputs": [
    {
     "name": "stdout",
     "output_type": "stream",
     "text": [
      "2019-10-27 12:00:20.929413\n",
      "<class 'datetime.datetime'>\n",
      "2019\n",
      "Sunday\n",
      "October\n"
     ]
    }
   ],
   "source": [
    "import datetime\n",
    "\n",
    "x = datetime.datetime.now()\n",
    "print(x)\n",
    "print(type(x))\n",
    "\n",
    "print(x.year)\n",
    "print(x.strftime(\"%A\"))\n",
    "print(x.strftime(\"%B\"))"
   ]
  },
  {
   "cell_type": "code",
   "execution_count": 44,
   "metadata": {},
   "outputs": [
    {
     "name": "stdout",
     "output_type": "stream",
     "text": [
      "30\n"
     ]
    }
   ],
   "source": [
    "import json\n",
    "\n",
    "x = '{ \"name\":\"John\", \"age\":30, \"city\":\"New York\"}'\n",
    "\n",
    "y = json.loads(x)\n",
    "\n",
    "print(y[\"age\"])"
   ]
  },
  {
   "cell_type": "code",
   "execution_count": 49,
   "metadata": {},
   "outputs": [
    {
     "name": "stdout",
     "output_type": "stream",
     "text": [
      "{\"name\": \"John\", \"age\": 30, \"city\": \"New York\"}\n"
     ]
    }
   ],
   "source": [
    "import json\n",
    "\n",
    "x = {\n",
    "  \"name\": \"John\",\n",
    "  \"age\": 30,\n",
    "  \"city\": \"New York\"\n",
    "}\n",
    "\n",
    "y = json.dumps(x)\n",
    "\n",
    "print(y)"
   ]
  },
  {
   "cell_type": "code",
   "execution_count": 54,
   "metadata": {},
   "outputs": [
    {
     "name": "stdout",
     "output_type": "stream",
     "text": [
      "x Tanımlı değil!\n"
     ]
    }
   ],
   "source": [
    "try:\n",
    "    print(z)\n",
    "except NameError:\n",
    "    print(\"z Tanımlı değil!\")\n",
    "except:\n",
    "    print(\"Bilinmeyen Hata\")"
   ]
  },
  {
   "cell_type": "code",
   "execution_count": 55,
   "metadata": {},
   "outputs": [
    {
     "name": "stdout",
     "output_type": "stream",
     "text": [
      "Bilinmeyen Hata\n"
     ]
    }
   ],
   "source": [
    "try:\n",
    "    print(z)\n",
    "except:\n",
    "    print(\"Bilinmeyen Hata\")"
   ]
  },
  {
   "cell_type": "code",
   "execution_count": null,
   "metadata": {},
   "outputs": [],
   "source": [
    "def yil_input():\n",
    "    while 1:\n",
    "        try:\n",
    "            yil = int(input(\"Doğum Yılı: \"))\n",
    "            break\n",
    "        except:\n",
    "            print(\"Yanlış Giriş. \")\n",
    "\n",
    "    return yil\n",
    "\n",
    "\n",
    "print(yil_input())\n",
    "\n",
    "def yil_input2():\n",
    "    yil = int(input(\"Doğum Yılı: \"))\n",
    "    return yil\n",
    "\n",
    "print(yil_input2())"
   ]
  },
  {
   "cell_type": "code",
   "execution_count": null,
   "metadata": {},
   "outputs": [],
   "source": []
  },
  {
   "cell_type": "markdown",
   "metadata": {},
   "source": [
    "<center>Kaan ARI  |  <b>kaan.ari.tr@gmail.com</b></center>"
   ]
  }
 ],
 "metadata": {
  "colab": {
   "collapsed_sections": [],
   "name": "Python-1.ipynb",
   "provenance": []
  },
  "kernelspec": {
   "display_name": "Python 3",
   "language": "python",
   "name": "python3"
  },
  "language_info": {
   "codemirror_mode": {
    "name": "ipython",
    "version": 3
   },
   "file_extension": ".py",
   "mimetype": "text/x-python",
   "name": "python",
   "nbconvert_exporter": "python",
   "pygments_lexer": "ipython3",
   "version": "3.7.3"
  }
 },
 "nbformat": 4,
 "nbformat_minor": 1
}
