{
 "cells": [
  {
   "cell_type": "markdown",
   "metadata": {
    "colab_type": "text",
    "id": "ifvV6hohZR97"
   },
   "source": [
    "<center><img src=\"./assests/robot_logo.svg\" alt=\"8+6*2*3-(15-13)\" width=\"200\"></center>\n",
    "<br>\n",
    "<center>\n",
    "  <b>Hacettepe Robot Topluluğu<br>\n",
    "  Python Dersleri</b><br>\n",
    "  <hr>\n",
    "  <b>Ders :</b> 1&emsp;&emsp;&emsp;<b>Konu :</b> Hello World<br>\n",
    "  <b>Eğitmen :</b> Kaan ARI&emsp;&emsp;&emsp;<b>E-Mail :</b> kaan.ari.tr@gmail.com\n",
    "</center>\n",
    "\n"
   ]
  },
  {
   "cell_type": "markdown",
   "metadata": {},
   "source": [
    "<b> <h2>Gelenekleri Yerine Getirme Zamanı : Merhaba Dünya</h2> </b><br>\n",
    "<center><img src=\"./assests/helloworld.jpg\" alt=\"8+6*2*3-(15-13)\" width=\"500\"></center><br><br>\n",
    "Programlamada dünyanın her tarafında kullanılan, isminden çokça söz edilen ve birçok <span style=\"color:red\">\"Yazılımcı\"</span> tarafından <span style=\"color:red\">yazılım dilinin öğrenildiğinin</span> göstergesi olarak kullanılan <span style=\"color:blue\"><b>\"hello, world\"</b></span>  programımızı çalıştıracağız. Önce biraz bilgilenmemiz gerekli.\n",
    "<br><br>\n",
    "\n",
    "<b><h2>Hello, world'ün hikayesi</h2></b><br>\n",
    "<center><img src=\"./assests/brian.jpg\" alt=\"8+6*2*3-(15-13)\" width=\"500\"></center><br><br>\n",
    "<b>Martin Richards</b> tarafından geliştirilen <b>BCPL</b> dili için dökümantasyon hazırlayan <b>Brian Kernighan</b>, ilk \"hello, world\" programını bu dökümantasyonun bir parçası olarak kullanan ilk kişidir. <b>BCPL</b> dili <b>Kernighan ve Ritchie</b> nin <b>C</b> kitabı yayınlanmadan önce <b>C</b> dili geliştirilirken <b>Bell Laboratuvarlarında</b> kullanılıyordu. <br><br>\n",
    "<center><img src=\"./assests/helloworld2.jpg\" alt=\"8+6*2*3-(15-13)\" width=\"500\"></center><br><br>\n",
    "Bu gelenek önce <b>BCPL</b> diline, ardından <b>C</b> diline geçmiştir. Dahası <b>C++</b> dilinin geliştiricisi <b>Bjarne Stroustrup</b>'un ilk <b>C++</b> derleyicisini denemek için kullandığı program olarakta geleneğini sürdürmüştür.\n",
    "\n",
    "<br><br>\n",
    "<b>Örnek 1 : Merhaba Dünya</b><br><br>\n",
    "<b>1)</b> <span style=\"color:green\">print</span>(\"\") fonksiyonunun içine <span style=\"color:darkred\"><b>hello, world</b></span> yazıp kodunuzu çalıştırın.<br>\n",
    "<b>2)</b> Eğer çıktıda <b>hello, world</b> görüyorsanız. Sizde artık yazılım dünyasına hoşgeldin dediniz.\n"
   ]
  },
  {
   "cell_type": "code",
   "execution_count": null,
   "metadata": {
    "scrolled": true
   },
   "outputs": [],
   "source": [
    "print(\"\")"
   ]
  },
  {
   "cell_type": "markdown",
   "metadata": {},
   "source": [
    "<hr>\n",
    "<b>Örnek 2 : Yorum Satırı</b><br><br>\n",
    "Daha ikinci örnek olmasına rağmen belkide en önemli kısımlardan birine geldik.<br><br>\n",
    "Bu örnekte yapmamız gereken yazdığımız koda yorum satırları ekleyerek hem başkaları hemde gelecekteki biz için kodumuzun daha kolay anlaşılmasını sağlamak.<br>\n",
    "<b>*İlk örneği sizin için yaptım.</b>\n",
    "<br><br>\n",
    "<b>1)</b> Her kod satırının yanına <span style=\"color:cadetblue;\"><b>#</b></span> sembolü ile başlayan, o satırın ne işe yaradığını söyleyen  yorum satırları ekleyin.<br>\n",
    "<b>2)</b> Şuanda bilmediğiniz şeyler var fakat bir yazılımcı her zaman güzel tahmin edebilmeli. (Tahmin etmesi çok zor şeyler yapmıyorlar)<br>\n",
    "<b>3)</b> En son satıra(9) <span style=\"color:cadetblue;\">\"Yorum yapabiliyorum\"</span> yorumunu ekleyin.<br>\n",
    "<b>4)</b> Kodu çalıştırın.<br>\n",
    "<b>5)</b> 6'ıncı satırdaki işlem a'nın değerini değiştirdimi? (Dikkat!)<br>\n",
    "\n",
    "\n",
    "<b>*Yazılım geliştirmeye çalışırken her zaman karşınıza bilinmeyenler çıkacak. O anlarda bu örnekteki gibi neler olduğunu anlamaya çalışmanız çok önemli bir konu!"
   ]
  },
  {
   "cell_type": "code",
   "execution_count": null,
   "metadata": {},
   "outputs": [],
   "source": [
    "#Yorum satırları hem satır başında hemde çalışan bir kod satırından sonra yazılabilir.\n",
    "print(\"hello, world\") # Ekrana hello, world yazdırdık.\n",
    "print(5+2)\n",
    "a=5+2\n",
    "print(a)\n",
    "print(a*3)\n",
    "a=a**2\n",
    "print(a)\n"
   ]
  },
  {
   "cell_type": "markdown",
   "metadata": {},
   "source": [
    "<b>Yorum satırları kod çalıştığında ekrana yazıldı mı?</b>"
   ]
  },
  {
   "cell_type": "markdown",
   "metadata": {},
   "source": [
    "<hr>\n",
    "<b>Örnek 3 : Değişkenler</b><br><br>\n",
    "\n",
    "Değişkenler matematiktende bildiğimiz gibi sadece isimlendirmek üzere kullanılırlar. Gerçek bir dilde olduğu gibi herşeyin bir ismi vardır. Yazılımlardada bunu değişkenlerle sağlıyoruz.Bu örnekte değişkenlerle yapılabilecek çok basit şeyleri ve değişkenlerin nasıl çalıştığını anlamanızı amaçlıyorum.\n",
    "\n",
    "<b>1)</b> Kodumuzda <span style=\"color:darkred;\"><b>x</b></span> adında bir değişkeni önceden oluşturdum.<br>\n",
    "<b>2)</b> Kodumuza <span style=\"color:darkred;\"><b>y</b></span> adında başka bir değişken daha ekleyin.<br>\n",
    "<b>3)</b> Eklediğiniz değişkeni <span style=\"color:darkblue;\"><b>10</b></span>'a eşitleyin. <span style=\"color:darkblue;\"><b>(INTEGER)</b></span><br>\n",
    "<b>4)</b> Kodumuza <span style=\"color:darkred;\"><b>string</b></span> adında bir değişken daha ekleyelim.<br>\n",
    "<b>5)</b> Eklediğiniz değişkeni <span style=\"color:darkblue;\"><b>\"Kaan ile Python Öğreniyorum\"</b></span> a eşitleyin. <span style=\"color:darkblue;\"><b>(STRING)</b></span><br>\n",
    "<b>6)</b> Kodumuza <span style=\"color:darkred;\"><b>ondalik_sayim</b></span> adında bir değişken ekleyin.<br>\n",
    "<b>7)</b> Eklediğiniz değişkeni <span style=\"color:darkblue;\"><b>52.2</b></span> a eşitleyin. <span style=\"color:darkblue;\"><b>(FLOAT)</b></span><br>\n",
    "<b>8)</b> Üstteki değişkenlerin tamamı <span style=\"color:green;\"><b>print_ex1()</b></span> fonksiyonundan önce yazıldığına emin olun.<br>\n",
    "<b>9)</b> Şimdi yukarıda tanımladığımız değişkenlerin tamamını <span style=\"color:green;\"><b>print_ex1()</b></span> fonksiyonunun altında isteğimize göre değiştireceğiz.<br>\n",
    "<b>10)</b> <span style=\"color:darkred;\"><b>y</b></span> değişkenini istediğiniz bir tamsayıyla değiştirin.<br>\n",
    "<b>11)</b> <span style=\"color:darkred;\"><b>string</b></span> değişkenini istediğiniz bir cümleyle değiştirin.<br>\n",
    "<b>12)</b> <span style=\"color:darkred;\"><b>ondalik_sayim</b></span> değişkenini istediğiniz bir ondalık sayıyla değiştirin.<br>\n",
    "<b>13)</b> <span style=\"color:darkred;\"><b>sonuc</b></span> adında bir değişken tanımlayıp <span style=\"color:darkred;\"><b>x</b></span> ve <span style=\"color:darkred;\"><b>ondalik_sayim</b></span> nin toplamına eşitleyin.<br>\n",
    "<b>14)</b> Kodu çalıştırın.<br>\n",
    "<b>15)</b> Ekrana çıkan sonuçta değişken tiplerinde <span style=\"color:darkred;\"><b>int (INTEGER), str (STRING), float (ONDALIK)</b></span> yazdığını göreceksiniz.<br>\n",
    "<b>16)</b> Son olarak en son satirdaki print fonksiyonunu inceleyip <span style=\"color:green;\"><b>type</b></span> fonksiyonunun'ın nasıl kullanıldığını görün!.<br>"
   ]
  },
  {
   "cell_type": "code",
   "execution_count": null,
   "metadata": {
    "colab": {
     "base_uri": "https://localhost:8080/",
     "height": 164
    },
    "colab_type": "code",
    "executionInfo": {
     "elapsed": 2195,
     "status": "error",
     "timestamp": 1570193635615,
     "user": {
      "displayName": "Kaan Ari",
      "photoUrl": "https://lh3.googleusercontent.com/a-/AAuE7mB_ymQwALV3uJOdBT9gznVBCfpSbY6r5a3wFEvYWw=s64",
      "userId": "13279354565943133053"
     },
     "user_tz": -180
    },
    "id": "7b4XsESJZKdm",
    "outputId": "0d231a94-5687-4d5e-e0ec-84479b4fffe3",
    "scrolled": false
   },
   "outputs": [],
   "source": [
    "import sys\n",
    "sys.path.insert(1, './assests/')\n",
    "from common_funcs import print_ex1\n",
    "#Bu satırın üstünü değiştirmeyin.\n",
    "\n",
    "x = 2\n",
    "\n",
    "#Değişkenler bu satırın üstünde tanımlanacak.\n",
    "print(\"=========================================\")\n",
    "print(\"Değişkenler tanımlandığındaki değerler.\")\n",
    "print(\"=========================================\")\n",
    "print_ex1(x,y,string,ondalik_sayim)# Değerleri bastıran bir fonksiyon\n",
    "#Değişkenler bu satırın altında değiştirilecek.\n",
    "\n",
    "x = 22\n",
    "\n",
    "#Değişkenler bu satırın üstünde değiştirilecek.\n",
    "print(\"=========================================\")\n",
    "print(\"Değişkenler değiştirildiğindeki değerler.\")\n",
    "print(\"=========================================\")\n",
    "print_ex1(x,y,string,ondalik_sayim)# Değerleri bastıran bir fonksiyon\n",
    "print(\"Sonuç = \",sonuc,\"  Tipi = \",type(sonuc))"
   ]
  },
  {
   "cell_type": "markdown",
   "metadata": {},
   "source": [
    "<hr>\n",
    "<b>Örnek 4 : Standart Input and Output</b><br><br>\n",
    "\n",
    "Bu örnekte print, input ve type fonksiyonlarını kullanarak ilk ilkel programımızı oluşturuyoruz. Bu örnekteki her şeyi kendiniz yapmanız için size yardım etmiyorum. Sadece örnek olarak <span style=\"color:green;\"><b>input()</b></span> fonksiyonunu denemeniz için bir kod bıraktım.\n",
    "\n",
    "<b>Programın Amacı:</b> Kullanıcıdan ismini, soyisimi ve yaşını alarak bunları aynı satırda düzgün bir biçimde ekrana bastırmak. <br>Ek olarak program bu bilgileri ekrana bastırdıktan sonra input fonksiyonundan gelen her hangi bir değerin tipini (type fonksiyonu) ekrana bastırmanızı istiyorum.\n",
    "\n",
    "Örnek bir program:<br>\n",
    "<code><span style=\"color:darkred;\">IN :</span> İsim : Kaan (Enter)\n",
    "<span style=\"color:darkred;\">IN :</span> Soyisim : Arı (Enter)\n",
    "<span style=\"color:darkred;\">IN :</span> Yaş : 21 (Enter)\n",
    "<span style=\"color:darkred;\">OUT:</span> Kaan Arı - 21\n",
    "<span style=\"color:darkred;\">OUT:</span> class 'str'</code>"
   ]
  },
  {
   "cell_type": "code",
   "execution_count": null,
   "metadata": {},
   "outputs": [],
   "source": [
    "input(\"Parola : \")"
   ]
  },
  {
   "cell_type": "markdown",
   "metadata": {},
   "source": [
    "<b>Örnek 4+ : Eğer Örnek 4'ü tamamlayıpta fazla zamanınız kaldıysa:</b>\n",
    "\n",
    "Bu örnekte sizden aşağıdaki kod içindeki hataları ayıklamanızı <span style=\"color:cadetblue;\"><b>(debug)</b></span> istiyorum.<br>\n",
    "Derste bahsedildiği gibi en önemli hata ayıklama metodu <span style=\"color:green;\"><b>print()</b></span> fonksiyonunu kullanmanız yararınıza.\n",
    "\n",
    "Kodun yazarı ne yapmak istediği açıklıyor ve sizden yardım istiyor.<br>\n",
    "<span style=\"color:darkred;\"><b>\\-  C0D3R:</b></span><br>\n",
    "Merhaba <span style=\"color:green;\"><b>Ken Thompson</b></span> duyduğuma göre çok yetenekli bir yazılımcıymışsın.<br> \n",
    "Senden bana yardım etmeni istiyorum.<br>\n",
    "Yaptığımı sandığım şey, <span style=\"color:green;\"><b>get_value</b></span> fonksiyonundan gelen değeri <span style=\"color:blue;\"><b>sayi</b></span> değişkenine atadım. <span style=\"color:blue;\"><b>sayi</b></span> değişkeninin karekökünü aldım. Ardından <span style=\"color:blue;\"><b>sayi</b></span> değişkenini 2 ile çarptım. Sonra <span style=\"color:blue;\"><b>sayi</b></span> değişkenine <span style=\"color:blue;\"><b>sayi</b></span>'nin 5 fazlasının 12 katının iki eksiğinin 5 e bölümünü ekledim. Daha sonra <span style=\"color:blue;\"><b>sayi</b></span> değişkeninden kendisinin 5'e göre modunu çıkardım ve bu sayiyi <span style=\"color:blue;\"><b>sonuc</b></span> değişkenine eşitledim."
   ]
  },
  {
   "cell_type": "code",
   "execution_count": null,
   "metadata": {},
   "outputs": [],
   "source": [
    "import sys\n",
    "sys.path.insert(1, './assests/')\n",
    "from common_funcs import get_value_ex04,key_ex04\n",
    "\n",
    "sayi = get_value_ex04() # Bu satırda hata yok :)\n",
    "\n",
    "# Bu satırdan aşağısı düzenlenecek.\n",
    "\n",
    "sayi = sayi**1/3\n",
    "\n",
    "say1 - sayi*2\n",
    "\n",
    "sayi = sayi + (5 + sayi*12-2/5)\n",
    "\n",
    "sayi_gecici = sayi // 5\n",
    "\n",
    "sayi_gecici = sayi - sayi_gecici\n",
    "\n",
    "sonuc = sayi\n",
    "\n",
    "# Bu satırdan yukarısı düzenlenecek.\n",
    "\n",
    "\n",
    "if sonuc == key_ex04(): # Bu satırda hata yok :)\n",
    "    print(\"Tebrikler. DEBUGGER.\")\n",
    "else:\n",
    "    print(\"Yanlış cevap.\")"
   ]
  },
  {
   "cell_type": "markdown",
   "metadata": {},
   "source": [
    "<hr>"
   ]
  },
  {
   "cell_type": "markdown",
   "metadata": {},
   "source": [
    "| Sembol | Anlamı | Örnek |\n",
    "|----|---|-----|\n",
    "| +  | Toplama | 7+4 = 11 |\n",
    "| -  | Çıkarma | 5-2 = 3 |\n",
    "| /  | Bölme | 5/2 = 2.5 |\n",
    "| *  | Çarpma | 3\\*5 = 15 |\n",
    "| %  | Mod | 21/4 = 1 |\n",
    "| //  | \\*Bölüm | 5/2 = 2 |\n",
    "| **  | Üst alma | 3**2 = 9 |"
   ]
  },
  {
   "cell_type": "markdown",
   "metadata": {},
   "source": [
    "<b>Örnek 5 : Aritmetik İşlemler ve Type-Casting</b><br><br>\n",
    "\n",
    "Bu örnekte bazı aritmetik işlemleri yapmanızı ve bu işlemleri yaparken bazı noktalara dikkat etmenizi istiyorum. Hangi adımda yanlış yaptığınızı bulmak için lütfen <span style=\"color:green;\"><b>print()</b></span> fonksiyonunu kullanınız. Her adımda işlemlerinizi kontrol etmenizi öneriyorum !.\n",
    "\n",
    "Bu örnekte NASA'da bulunan bir bilgisayarın parolasını çözeceğiz. Kodumuzda password değişkeninde şifrelenmiş parola bulunuyor bunun gerçekte ne olduğunu bulup parolayı çözmemiz için gerekli algoritmayı veriyorum.\n",
    "\n",
    "<b>1)</b> <span style=\"color:darkred;\"><b>Password</b></span>'ü <span style=\"color:blue;\"><b>2</b></span> ile çarp.<br>\n",
    "<b>2)</b> <span style=\"color:blue;\"><b>1024</b></span> ekle.<br>\n",
    "<b>3)</b> Karesini al.<br>\n",
    "<b>4)</b> <span style=\"color:blue;\"><b>10</b></span>'a göre mod'unu hesapla.<br>\n",
    "<b>5)</b> <span style=\"color:blue;\"><b>522.5</b></span> ile çarp.<br>\n",
    "<b>6)</b> <span style=\"color:blue;\"><b>8</b></span>'e böl.<br>\n",
    "<b>7)</b> Çıkan sonucu <span style=\"color:blue;\"><b>tam sayıya</b></span> çevir.<br>\n",
    "<b>8)</b> Üstteki aşamalardan sonra elimizdeki sayının <span style=\"color:darkred;\"><b>key</b></span> değişkenine göre üssünü al. x^key.<br>\n",
    "<b>9)</b> Elde ettiğiniz değeri <span style=\"color:red;\"><b>STRING</b></span>'e çevirip <span style=\"color:darkred;\"><b>cracked</b></span> değişkenine eşitleyiniz.<br>\n",
    "<b>10)</b> Kodu çalıştırın. Yanlış yapmışsanız program <span style=\"color:red;\"><b>ERROR!</b></span> yazacaktır.<br>\n"
   ]
  },
  {
   "cell_type": "code",
   "execution_count": null,
   "metadata": {
    "scrolled": true
   },
   "outputs": [],
   "source": [
    "import sys\n",
    "sys.path.insert(1, './assests/')\n",
    "from common_funcs import get_password_ex05,get_crack_key_ex05,control_password_ex05\n",
    "\n",
    "key = get_crack_key_ex05()\n",
    "password = get_password_ex05()\n",
    "# BU SATIRDAN YUKARISINI DEĞİŞTİRMEYİNİZ\n",
    "\n",
    "# BU SATIRDAN AŞAĞISINI DEĞİŞTİRMEYİNİZ\n",
    "control_password_ex05(cracked)"
   ]
  },
  {
   "cell_type": "markdown",
   "metadata": {},
   "source": [
    "<hr>\n",
    "<b>Örnek 6 : STRING, Karşılaştırma Operatörleri ve Mantıksal Operatörler.</b><br><br>\n",
    "\n",
    "Bu örnekte STRING metodlarını tekrar edecek ve nasıl çalıştıklarını göreceksiniz.\n",
    "\n",
    "<b>1)</b> <span style=\"color:darkred;\"><b>user</b></span> adında bir değişken tanımlayın.<br>\n",
    "<b>2)</b> Bu değişkeni kullanıcıdan veri almak için tanımlayın!!!<br>\n",
    "<b>3)</b> Verinin giriş formatı <span style=\"color:darkred;\"><b>\"Eric Clapton 30 03 1945\"</b></span> yani <span style=\"color:darkred;\"><b>\"İsim Soyisim Gün Ay Yıl\"</b></span> şeklindedir.<br>\n",
    "<b>4)</b> <span style=\"color:darkred;\"><b>onay</b></span> adında bir değişken tanımlayıp bu değişkeni <span style=\"color:darkblue;\"><b>yılın 2002 den küçük</b></span> <span style=\"color:green;\"><b>ve</b></span> <span style=\"color:darkblue;\"><b>ayın 6 dan küçük</b></span> <span style=\"color:green;\"><b>veya</b></span> <span style=\"color:darkblue;\"><b>günün 15 e büyük eşit</b></span> olduğu durumda <span style=\"color:blue;\">True</b></span> yapıyoruz. <br>\n",
    "<b>5)</b> Alınan bu veriyi dönüştüreceğiniz format'ı örnek kodu çalıştırınca göreceksiniz.<br>\n",
    "<b>6)</b> Kodunuz bitince doğru formatta olup olmadığını test etmek için <span style=\"color:darkred;\"><b>\"Eric Clapton 30 03 1945\"</b></span> bu veriyi kullanın.<br>\n",
    "\n"
   ]
  },
  {
   "cell_type": "code",
   "execution_count": null,
   "metadata": {},
   "outputs": [],
   "source": [
    "import sys\n",
    "sys.path.insert(1, './assests/')\n",
    "from common_funcs import example_ex06\n",
    "\n",
    "example_ex06() # Kodu çalıştırdığınızda Örnek çıktıyı ekrana yazdııracaktır.\n",
    "# BU SATIRDAN YUKARISINI DEĞİŞTİRMEYİNİZ\n"
   ]
  },
  {
   "cell_type": "markdown",
   "metadata": {},
   "source": [
    "<center>Kaan ARI  |  <b>kaan.ari.tr@gmail.com</b></center>"
   ]
  }
 ],
 "metadata": {
  "colab": {
   "collapsed_sections": [],
   "name": "Python-1.ipynb",
   "provenance": []
  },
  "kernelspec": {
   "display_name": "Python 3",
   "language": "python",
   "name": "python3"
  },
  "language_info": {
   "codemirror_mode": {
    "name": "ipython",
    "version": 3
   },
   "file_extension": ".py",
   "mimetype": "text/x-python",
   "name": "python",
   "nbconvert_exporter": "python",
   "pygments_lexer": "ipython3",
   "version": "3.7.3"
  }
 },
 "nbformat": 4,
 "nbformat_minor": 1
}
