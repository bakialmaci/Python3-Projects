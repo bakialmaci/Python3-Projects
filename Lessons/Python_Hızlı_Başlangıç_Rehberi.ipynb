{
 "cells": [
  {
   "cell_type": "markdown",
   "metadata": {},
   "source": [
    "<center><img src=\"./assests/robot_logo.svg\" alt=\"8+6*2*3-(15-13)\" width=\"200\">\n",
    "</center>\n",
    "<br>\n",
    "<center>\n",
    "  <b>Hacettepe Robot Topluluğu<br><br>\n",
    "  <b>Eğitmen :</b> Kaan ARI&emsp;&emsp;&emsp;<b>E-Mail :</b> kaan.ari.tr@gmail.com\n",
    "</center>"
   ]
  },
  {
   "cell_type": "markdown",
   "metadata": {},
   "source": [
    "<h2> Python: Hızlı Başlangıç Rehberi </h2>\n",
    "<hr>\n",
    "<ul>\n",
    "    <li><a href=\"#Variables\">Değişkenler</a></li>\n",
    "    <li><a href=\"#Arithmetic_operators\">Aritmetik İşlemler</a></li>\n",
    "    <li><a href=\"#Objects\">Objeler</a></li>\n",
    "    <li><a href=\"#Size_of_an_object\">Objelerin Boyutu</a></li>    \n",
    "    <li><a href=\"#Loops\">Döngüler</a></li>\n",
    "    <li><a href=\"#Conditionals\">Koşul İfadeleri</a></li>\n",
    "    <li><a href=\"#Logical_and_Boolean_operators\">Matıksal Operatörler</a></li>\n",
    "    <li><a href=\"#Double_list\">İç-içe Listeler (Matris)</a></li>\n",
    "    <li><a href=\"#List_operations\">Liste İşlemleri</a></li>\n",
    "    <li><a href=\"#Functions\">Fonksiyonlar</a></li>\n",
    "    <li><a href=\"#Random_number\">Rastgele Sayı Oluşturma</a></li>\n",
    "</ul>\n",
    "<hr>"
   ]
  },
  {
   "cell_type": "markdown",
   "metadata": {},
   "source": [
    "<a id=\"Variables\"></a>\n",
    "<h3> Değişkenler </h3>"
   ]
  },
  {
   "cell_type": "code",
   "execution_count": null,
   "metadata": {},
   "outputs": [],
   "source": [
    "number = 5 # integer\n",
    "real = -3.4 # float\n",
    "\n",
    "name = 'Asja' # string\n",
    "surname = \"Sarkana\" # string\n",
    "\n",
    "boolean1 = True # Boolean \n",
    "boolean2 = False # Boolean "
   ]
  },
  {
   "cell_type": "markdown",
   "metadata": {},
   "source": [
    "<hr>"
   ]
  },
  {
   "cell_type": "markdown",
   "metadata": {},
   "source": [
    "<a id=\"Arithmetic_operators\"></a>\n",
    "<h3> Aritmetik İşlemler</h3>"
   ]
  },
  {
   "cell_type": "markdown",
   "metadata": {},
   "source": [
    "<h4> Basit operatörler </h4>"
   ]
  },
  {
   "cell_type": "code",
   "execution_count": null,
   "metadata": {},
   "outputs": [],
   "source": [
    "a = 13\n",
    "b = 5\n",
    "print(\"a =\",a)\n",
    "print(\"b =\",b)\n",
    "print()\n",
    "\n",
    "# basics operators\n",
    "print(\"a + b =\",a+b)\n",
    "print(\"a - b =\",a-b)\n",
    "print(\"a * b =\",a*b)\n",
    "print(\"a / b =\",a/b)"
   ]
  },
  {
   "cell_type": "markdown",
   "metadata": {},
   "source": [
    "<h4> Bölüm ve Mod Operatörleri </h4>"
   ]
  },
  {
   "cell_type": "code",
   "execution_count": null,
   "metadata": {},
   "outputs": [],
   "source": [
    "a = 13\n",
    "b = 5\n",
    "print(\"a =\",a)\n",
    "print(\"b =\",b)\n",
    "print()\n",
    "\n",
    "print(\"integer division:\")\n",
    "print(\"a//b =\",a//b)\n",
    "\n",
    "print(\"modulus operator:\")\n",
    "print(\"a mod b =\",a % b)"
   ]
  },
  {
   "cell_type": "markdown",
   "metadata": {},
   "source": [
    "<h4>Üst alma operatörü</h4>\n",
    "\n",
    "sayı\\*\\*üst"
   ]
  },
  {
   "cell_type": "code",
   "execution_count": null,
   "metadata": {},
   "outputs": [],
   "source": [
    "b = 5\n",
    "print(\"b =\",b)\n",
    "print()\n",
    "\n",
    "print(\"b*b =\",b**2)\n",
    "print(\"b*b*b =\",b**3)\n",
    "print(\"sqrt(b)=\",b**0.5)"
   ]
  },
  {
   "cell_type": "markdown",
   "metadata": {},
   "source": [
    "<hr>"
   ]
  },
  {
   "cell_type": "markdown",
   "metadata": {},
   "source": [
    "<a id=\"Objects\"></a>\n",
    "<h3> Objeler </h3>"
   ]
  },
  {
   "cell_type": "markdown",
   "metadata": {},
   "source": [
    "<h4> Listeler </h4>"
   ]
  },
  {
   "cell_type": "code",
   "execution_count": null,
   "metadata": {},
   "outputs": [],
   "source": [
    "# list\n",
    "mylist = [10,8,6,4,2] \n",
    "\n",
    "print(mylist)"
   ]
  },
  {
   "cell_type": "markdown",
   "metadata": {},
   "source": [
    "<h4> Tuple </h4>"
   ]
  },
  {
   "cell_type": "code",
   "execution_count": null,
   "metadata": {},
   "outputs": [],
   "source": [
    "# tuple\n",
    "mytuple=(1,4,5,'Asja') \n",
    "\n",
    "print(mytuple)"
   ]
  },
  {
   "cell_type": "markdown",
   "metadata": {},
   "source": [
    "<h4> Dictionary ( Sözlük ) </h4>"
   ]
  },
  {
   "cell_type": "code",
   "execution_count": null,
   "metadata": {},
   "outputs": [],
   "source": [
    "# dictionary\n",
    "mydictionary = {\n",
    "    'name' : \"Asja\",\n",
    "    'surname':'Sarkane',\n",
    "    'age': 23\n",
    "}\n",
    "\n",
    "print(mydictionary)\n",
    "\n",
    "print(mydictionary['surname'])"
   ]
  },
  {
   "cell_type": "markdown",
   "metadata": {},
   "source": [
    "<h4>List of the other objects or variables </h4>"
   ]
  },
  {
   "cell_type": "code",
   "execution_count": null,
   "metadata": {},
   "outputs": [],
   "source": [
    "# list of the other objects or variables\n",
    "list_of_other_objects =[\n",
    "    mylist,\n",
    "    mytuple,\n",
    "    3,\n",
    "    \"Asja\",\n",
    "    mydictionary\n",
    "]\n",
    "\n",
    "print(list_of_other_objects)"
   ]
  },
  {
   "cell_type": "markdown",
   "metadata": {},
   "source": [
    "<hr>"
   ]
  },
  {
   "cell_type": "markdown",
   "metadata": {},
   "source": [
    "<a id=\"Size_of_an_object\"></a>\n",
    "<h3> Objelerin Boyutu </h3>\n",
    "\n",
    "Bunun için len() metodunu kullanıyoruz."
   ]
  },
  {
   "cell_type": "code",
   "execution_count": null,
   "metadata": {},
   "outputs": [],
   "source": [
    "# length of a string\n",
    "print(len(\"Asja Sarkane\"))\n",
    "\n",
    "# size of a list\n",
    "print(len([1,2,3,4]))\n",
    "\n",
    "# size of a dictionary\n",
    "mydictionary = { 'name' : \"Asja\", 'surname':'Sarkane', 'age': 23}\n",
    "print(len(mydictionary))"
   ]
  },
  {
   "cell_type": "markdown",
   "metadata": {},
   "source": [
    "<hr>"
   ]
  },
  {
   "cell_type": "markdown",
   "metadata": {},
   "source": [
    "<a id=\"Loops\"></a>\n",
    "<h3> Döngüler </h3>"
   ]
  },
  {
   "cell_type": "markdown",
   "metadata": {},
   "source": [
    "<h4> While-döngüsü </h4>"
   ]
  },
  {
   "cell_type": "code",
   "execution_count": null,
   "metadata": {},
   "outputs": [],
   "source": [
    "i = 10\n",
    "while i>0: # while condition(s):\n",
    "    print(i)\n",
    "    i = i - 1   "
   ]
  },
  {
   "cell_type": "markdown",
   "metadata": {},
   "source": [
    "<h4> For-döngüsü </h4>"
   ]
  },
  {
   "cell_type": "code",
   "execution_count": null,
   "metadata": {},
   "outputs": [],
   "source": [
    "for i in range(10): # i is in [0,1,...,9]\n",
    "    print(i)"
   ]
  },
  {
   "cell_type": "code",
   "execution_count": null,
   "metadata": {},
   "outputs": [],
   "source": [
    "for i in range(-5,6): # i is in [-5,-4,...,0,...,4,5]\n",
    "    print(i)"
   ]
  },
  {
   "cell_type": "code",
   "execution_count": null,
   "metadata": {},
   "outputs": [],
   "source": [
    "for i in range(0,23,4): # i is in [0,4,8,12,16,20]\n",
    "    print(i)"
   ]
  },
  {
   "cell_type": "code",
   "execution_count": null,
   "metadata": {},
   "outputs": [],
   "source": [
    "for i in [3,8,-5,11]: \n",
    "    print(i)"
   ]
  },
  {
   "cell_type": "code",
   "execution_count": null,
   "metadata": {},
   "outputs": [],
   "source": [
    "for i in \"Sarkane\":\n",
    "    print(i)"
   ]
  },
  {
   "cell_type": "code",
   "execution_count": null,
   "metadata": {},
   "outputs": [],
   "source": [
    "# dictionary\n",
    "mydictionary = {\n",
    "    'name' : \"Asja\",\n",
    "    'surname':'Sarkane',\n",
    "    'age': 23,\n",
    "}\n",
    "\n",
    "for key in mydictionary:\n",
    "    print(\"key is\",key,\"and its value is\",mydictionary[key])"
   ]
  },
  {
   "cell_type": "markdown",
   "metadata": {},
   "source": [
    "<hr>"
   ]
  },
  {
   "cell_type": "markdown",
   "metadata": {},
   "source": [
    "<a id=\"Conditionals\"></a>\n",
    "<h3>Koşul İfadeleri </h3>"
   ]
  },
  {
   "cell_type": "code",
   "execution_count": null,
   "metadata": {},
   "outputs": [],
   "source": [
    "for a in range(4,7):\n",
    "    \n",
    "    # if condition(s)\n",
    "    if a<5: \n",
    "        print(a,\"is less than 5\")\n",
    "        \n",
    "    # elif conditions(s)\n",
    "    elif a==5: \n",
    "        print(a,\"is equal to 5\")\n",
    "        \n",
    "    # else\n",
    "    else:\n",
    "        print(a,\"is greater than 5\")"
   ]
  },
  {
   "cell_type": "markdown",
   "metadata": {},
   "source": [
    "<hr>"
   ]
  },
  {
   "cell_type": "markdown",
   "metadata": {},
   "source": [
    "<a id=\"Logical_and_Boolean_operators\"></a>\n",
    "<h3>Mantıksal Operatörler</h3>"
   ]
  },
  {
   "cell_type": "markdown",
   "metadata": {},
   "source": [
    "<h4> Mantıksal operatör \"and\"</h4>"
   ]
  },
  {
   "cell_type": "code",
   "execution_count": null,
   "metadata": {},
   "outputs": [],
   "source": [
    "i = -3\n",
    "j = 4\n",
    "if i<0 and j > 0:  \n",
    "    print(i,\"is negative AND\",j,\"is positive\")"
   ]
  },
  {
   "cell_type": "markdown",
   "metadata": {},
   "source": [
    "<h4>Mantıksal operatör \"or\"</h4>"
   ]
  },
  {
   "cell_type": "code",
   "execution_count": null,
   "metadata": {},
   "outputs": [],
   "source": [
    "i = -2\n",
    "j = 2\n",
    "if i==2 or j == 2:  \n",
    "    print(\"i OR j is 2: (\",i,\",\",j,\")\")"
   ]
  },
  {
   "cell_type": "markdown",
   "metadata": {},
   "source": [
    "<h4>Mantıksal operatör \"not\" </h4>"
   ]
  },
  {
   "cell_type": "code",
   "execution_count": null,
   "metadata": {},
   "outputs": [],
   "source": [
    "i = 3\n",
    "if not (i==2):\n",
    "    print(i,\"is NOT equal to 2\")"
   ]
  },
  {
   "cell_type": "markdown",
   "metadata": {},
   "source": [
    "<h4> Operatör \"eşit\" </h4>"
   ]
  },
  {
   "cell_type": "code",
   "execution_count": null,
   "metadata": {},
   "outputs": [],
   "source": [
    "i = -1\n",
    "if i == -1:\n",
    "    print(i,\"is EQUAL TO -1\")"
   ]
  },
  {
   "cell_type": "markdown",
   "metadata": {},
   "source": [
    "<h4> Operatör \"eşit değil\" </h4>"
   ]
  },
  {
   "cell_type": "code",
   "execution_count": null,
   "metadata": {},
   "outputs": [],
   "source": [
    "i = 4\n",
    "if i != 3:\n",
    "    print(i,\"is NOT EQUAL TO 3\")"
   ]
  },
  {
   "cell_type": "markdown",
   "metadata": {},
   "source": [
    "<h4> Operatör \"küçük eşit\" </h4>"
   ]
  },
  {
   "cell_type": "code",
   "execution_count": null,
   "metadata": {},
   "outputs": [],
   "source": [
    "i = 2\n",
    "if i <= 5:\n",
    "    print(i,\"is LESS THAN OR EQUAL TO 5\")"
   ]
  },
  {
   "cell_type": "markdown",
   "metadata": {},
   "source": [
    "<h4> Operator \"büyük eşit\" </h4>"
   ]
  },
  {
   "cell_type": "code",
   "execution_count": null,
   "metadata": {},
   "outputs": [],
   "source": [
    "i = 5\n",
    "if i >= 1:\n",
    "    print(i,\"is GREATER THAN OR EQUAL TO 3\")"
   ]
  },
  {
   "cell_type": "markdown",
   "metadata": {},
   "source": [
    "<hr>"
   ]
  },
  {
   "cell_type": "markdown",
   "metadata": {},
   "source": [
    "<a id=\"Double_list\"></a>\n",
    "<h3> İç-içe Listeler (Matris) </h3>"
   ]
  },
  {
   "cell_type": "code",
   "execution_count": null,
   "metadata": {},
   "outputs": [],
   "source": [
    "A =[\n",
    "    [1,2,3],\n",
    "    [-2,-4,-6],\n",
    "    [3,6,9]\n",
    "]\n",
    "\n",
    "# print all\n",
    "print(A)\n",
    "print()\n",
    "\n",
    "# print each list in a new line\n",
    "for list in A:\n",
    "    print(list)"
   ]
  },
  {
   "cell_type": "markdown",
   "metadata": {},
   "source": [
    "<hr>"
   ]
  },
  {
   "cell_type": "markdown",
   "metadata": {},
   "source": [
    "<a id=\"List_operations\"></a>\n",
    "<h3>Liste İşlemleri</h3>"
   ]
  },
  {
   "cell_type": "markdown",
   "metadata": {},
   "source": [
    "<h4> Listelerin birleştirilmesi. </h4>"
   ]
  },
  {
   "cell_type": "code",
   "execution_count": null,
   "metadata": {},
   "outputs": [],
   "source": [
    "list1 = [1,2,3]\n",
    "list2 = [4,5,6]\n",
    "\n",
    "#concatenation of two lists\n",
    "\n",
    "list3 = list1 + list2\n",
    "print(list3)\n",
    "\n",
    "list4 = list2 + list1\n",
    "print(list4)"
   ]
  },
  {
   "cell_type": "markdown",
   "metadata": {},
   "source": [
    "<h4> Yeni eleman ekleme. </h4>"
   ]
  },
  {
   "cell_type": "code",
   "execution_count": null,
   "metadata": {},
   "outputs": [],
   "source": [
    "list = [0,1,2]\n",
    "\n",
    "list.append(3)\n",
    "print(list)\n",
    "\n",
    "list = list + [4]\n",
    "print(list)"
   ]
  },
  {
   "cell_type": "markdown",
   "metadata": {},
   "source": [
    "<hr>"
   ]
  },
  {
   "cell_type": "markdown",
   "metadata": {},
   "source": [
    "<a id=\"Functions\"></a>\n",
    "<h3>Fonksiyonlar</h3>"
   ]
  },
  {
   "cell_type": "code",
   "execution_count": null,
   "metadata": {},
   "outputs": [],
   "source": [
    "def summation_of_integers(n):\n",
    "    summation = 0\n",
    "    for integer in range(n+1):\n",
    "        summation = summation + integer\n",
    "    return summation\n",
    "\n",
    "print(summation_of_integers(10))\n",
    "print(summation_of_integers(20))"
   ]
  },
  {
   "cell_type": "markdown",
   "metadata": {},
   "source": [
    "<hr>"
   ]
  },
  {
   "cell_type": "markdown",
   "metadata": {},
   "source": [
    "<a id=\"Random_number\"></a>\n",
    "<h3>Rastgele Sayı Oluşturma</h3>\n",
    "\n",
    "Bunun için randrange() metodunu kullanabiliriz."
   ]
  },
  {
   "cell_type": "code",
   "execution_count": null,
   "metadata": {},
   "outputs": [],
   "source": [
    "from random import randrange\n",
    "\n",
    "print(randrange(10),\"is picked randomly between 0 and 9\")\n",
    "      \n",
    "print(randrange(-9,10),\"is picked randomly between -9 and 9\")\n",
    "\n",
    "print(randrange(0,20,3),\"is picked randomly from the list [0,3,6,9,12,15,18]\")"
   ]
  }
 ],
 "metadata": {
  "kernelspec": {
   "display_name": "Python 3",
   "language": "python",
   "name": "python3"
  },
  "language_info": {
   "codemirror_mode": {
    "name": "ipython",
    "version": 3
   },
   "file_extension": ".py",
   "mimetype": "text/x-python",
   "name": "python",
   "nbconvert_exporter": "python",
   "pygments_lexer": "ipython3",
   "version": "3.7.3"
  }
 },
 "nbformat": 4,
 "nbformat_minor": 2
}
