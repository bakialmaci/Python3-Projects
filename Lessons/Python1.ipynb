{
  "nbformat": 4,
  "nbformat_minor": 0,
  "metadata": {
    "colab": {
      "name": "Python-1.ipynb",
      "provenance": [],
      "collapsed_sections": []
    },
    "kernelspec": {
      "name": "python3",
      "display_name": "Python 3"
    }
  },
  "cells": [
    {
      "cell_type": "markdown",
      "metadata": {
        "id": "ifvV6hohZR97",
        "colab_type": "text"
      },
      "source": [
        "<img src=\"https://docs.google.com/uc?export=download&id=1e2rfcnMxTYin9hoLSmhgPucPV6dGPt5J\" alt=\"8+6*2*3-(15-13)\" width=\"200\">\n",
        "\n",
        "<br>\n",
        "<br>\n",
        "\n",
        "<div>\n",
        "\n",
        "<img src=\"https://docs.google.com/uc?export=download&id=1e2rfcnMxTYin9hoLSmhgPucPV6dGPt5J\" width=\"200\">\n",
        "</div>\n"
      ]
    },
    {
      "cell_type": "code",
      "metadata": {
        "id": "7b4XsESJZKdm",
        "colab_type": "code",
        "outputId": "4321f19b-2646-443f-b2bf-c87a39f24c58",
        "colab": {
          "base_uri": "https://localhost:8080/",
          "height": 163
        }
      },
      "source": [
        "deneme"
      ],
      "execution_count": 0,
      "outputs": [
        {
          "output_type": "error",
          "ename": "NameError",
          "evalue": "ignored",
          "traceback": [
            "\u001b[0;31m---------------------------------------------------------------------------\u001b[0m",
            "\u001b[0;31mNameError\u001b[0m                                 Traceback (most recent call last)",
            "\u001b[0;32m<ipython-input-1-add9460287ac>\u001b[0m in \u001b[0;36m<module>\u001b[0;34m()\u001b[0m\n\u001b[0;32m----> 1\u001b[0;31m \u001b[0mdeneme\u001b[0m\u001b[0;34m\u001b[0m\u001b[0;34m\u001b[0m\u001b[0m\n\u001b[0m",
            "\u001b[0;31mNameError\u001b[0m: name 'deneme' is not defined"
          ]
        }
      ]
    },
    {
      "cell_type": "code",
      "metadata": {
        "id": "qfYmryfIbibk",
        "colab_type": "code",
        "colab": {}
      },
      "source": [
        "asads\n"
      ],
      "execution_count": 0,
      "outputs": []
    }
  ]
}
